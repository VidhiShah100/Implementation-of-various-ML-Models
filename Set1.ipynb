{
  "nbformat": 4,
  "nbformat_minor": 0,
  "metadata": {
    "colab": {
      "provenance": []
    },
    "kernelspec": {
      "name": "python3",
      "display_name": "Python 3"
    },
    "language_info": {
      "name": "python"
    }
  },
  "cells": [
    {
      "cell_type": "markdown",
      "source": [
        "##**BITS F464 - Semester 1 - MACHINE LEARNING**\n",
        "--------------------------------------------------------------------------------\n",
        "\n",
        "**ASSIGNMENT 1 - LINEAR MODELS FOR REGRESSION AND CLASSIFICATION**\n",
        "--------------------------------------------------------------------------------\n",
        "***Team number:***\n",
        "6\n",
        "---\n",
        "(*In Title case, separated with commas*)\n",
        "***Full names of all students in the team:***\n",
        "Vidhi Shah, Isha Pargaonkar, Vipanchi Dixit, Shreenidhi Ramaswamy, Shramana Ghosh\n",
        "\n",
        "---\n",
        "(*Separated by commas*)\n",
        "***Id number of all students in the team:***\n",
        "2021A3PS2645H, 2021A3PS2803H, 2021A3PS2983H, 2021A3PS0946H, 2021A7PS1834H"
      ],
      "metadata": {
        "id": "Vj_r89FzT41w"
      }
    },
    {
      "cell_type": "markdown",
      "source": [
        "This assignment aims to identify the differences between three sets of Machine Learning models."
      ],
      "metadata": {
        "id": "Z_duS0Zn17c3"
      }
    },
    {
      "cell_type": "markdown",
      "source": [
        "# **_1. Dataset Generation_**"
      ],
      "metadata": {
        "id": "yT-dTtra2h2n"
      }
    },
    {
      "cell_type": "markdown",
      "source": [
        "You are given a sample Diabetes dataset. Using this, please develop your own dataset consisting of 500 records. You can use the given code to generate your own dataset. Submit the generated dataset as a .csv file along with your python notebook."
      ],
      "metadata": {
        "id": "2UsOVUj22wrz"
      }
    },
    {
      "cell_type": "code",
      "source": [
        "!pip install sdv\n",
        "!pip install urllib3==1.26"
      ],
      "metadata": {
        "id": "N8uONwSjNSc-",
        "colab": {
          "base_uri": "https://localhost:8080/"
        },
        "outputId": "23ce2c4d-6948-47ea-d367-dc8dddfd0249"
      },
      "execution_count": 719,
      "outputs": [
        {
          "output_type": "stream",
          "name": "stdout",
          "text": [
            "Requirement already satisfied: sdv in /usr/local/lib/python3.10/dist-packages (1.4.0)\n",
            "Requirement already satisfied: boto3<2,>=1.15.0 in /usr/local/lib/python3.10/dist-packages (from sdv) (1.28.57)\n",
            "Requirement already satisfied: botocore<2,>=1.18 in /usr/local/lib/python3.10/dist-packages (from sdv) (1.31.57)\n",
            "Requirement already satisfied: cloudpickle<3.0,>=2.1.0 in /usr/local/lib/python3.10/dist-packages (from sdv) (2.2.1)\n",
            "Requirement already satisfied: Faker<15,>=10 in /usr/local/lib/python3.10/dist-packages (from sdv) (14.2.1)\n",
            "Requirement already satisfied: graphviz<1,>=0.13.2 in /usr/local/lib/python3.10/dist-packages (from sdv) (0.20.1)\n",
            "Requirement already satisfied: tqdm<5,>=4.15 in /usr/local/lib/python3.10/dist-packages (from sdv) (4.66.1)\n",
            "Requirement already satisfied: copulas<0.10,>=0.9.0 in /usr/local/lib/python3.10/dist-packages (from sdv) (0.9.1)\n",
            "Requirement already satisfied: ctgan<0.8,>=0.7.4 in /usr/local/lib/python3.10/dist-packages (from sdv) (0.7.4)\n",
            "Requirement already satisfied: deepecho<0.5,>=0.4.2 in /usr/local/lib/python3.10/dist-packages (from sdv) (0.4.2)\n",
            "Requirement already satisfied: rdt<2,>=1.7.0 in /usr/local/lib/python3.10/dist-packages (from sdv) (1.7.0)\n",
            "Requirement already satisfied: sdmetrics<0.12,>=0.11.0 in /usr/local/lib/python3.10/dist-packages (from sdv) (0.11.1)\n",
            "Requirement already satisfied: numpy<1.25.0,>=1.23.3 in /usr/local/lib/python3.10/dist-packages (from sdv) (1.23.5)\n",
            "Requirement already satisfied: pandas>=1.3.4 in /usr/local/lib/python3.10/dist-packages (from sdv) (1.5.3)\n",
            "Requirement already satisfied: jmespath<2.0.0,>=0.7.1 in /usr/local/lib/python3.10/dist-packages (from boto3<2,>=1.15.0->sdv) (1.0.1)\n",
            "Requirement already satisfied: s3transfer<0.8.0,>=0.7.0 in /usr/local/lib/python3.10/dist-packages (from boto3<2,>=1.15.0->sdv) (0.7.0)\n",
            "Requirement already satisfied: python-dateutil<3.0.0,>=2.1 in /usr/local/lib/python3.10/dist-packages (from botocore<2,>=1.18->sdv) (2.8.2)\n",
            "Requirement already satisfied: urllib3<1.27,>=1.25.4 in /usr/local/lib/python3.10/dist-packages (from botocore<2,>=1.18->sdv) (1.26.0)\n",
            "Requirement already satisfied: matplotlib<4,>=3.6.0 in /usr/local/lib/python3.10/dist-packages (from copulas<0.10,>=0.9.0->sdv) (3.7.1)\n",
            "Requirement already satisfied: scipy<2,>=1.9.2 in /usr/local/lib/python3.10/dist-packages (from copulas<0.10,>=0.9.0->sdv) (1.11.2)\n",
            "Requirement already satisfied: scikit-learn<2,>=1.1.3 in /usr/local/lib/python3.10/dist-packages (from ctgan<0.8,>=0.7.4->sdv) (1.2.2)\n",
            "Requirement already satisfied: torch>=1.11.0 in /usr/local/lib/python3.10/dist-packages (from ctgan<0.8,>=0.7.4->sdv) (2.0.1+cu118)\n",
            "Requirement already satisfied: pytz>=2020.1 in /usr/local/lib/python3.10/dist-packages (from pandas>=1.3.4->sdv) (2023.3.post1)\n",
            "Requirement already satisfied: psutil<6,>=5.7 in /usr/local/lib/python3.10/dist-packages (from rdt<2,>=1.7.0->sdv) (5.9.5)\n",
            "Requirement already satisfied: plotly<6,>=5.10.0 in /usr/local/lib/python3.10/dist-packages (from sdmetrics<0.12,>=0.11.0->sdv) (5.15.0)\n",
            "Requirement already satisfied: contourpy>=1.0.1 in /usr/local/lib/python3.10/dist-packages (from matplotlib<4,>=3.6.0->copulas<0.10,>=0.9.0->sdv) (1.1.0)\n",
            "Requirement already satisfied: cycler>=0.10 in /usr/local/lib/python3.10/dist-packages (from matplotlib<4,>=3.6.0->copulas<0.10,>=0.9.0->sdv) (0.11.0)\n",
            "Requirement already satisfied: fonttools>=4.22.0 in /usr/local/lib/python3.10/dist-packages (from matplotlib<4,>=3.6.0->copulas<0.10,>=0.9.0->sdv) (4.42.1)\n",
            "Requirement already satisfied: kiwisolver>=1.0.1 in /usr/local/lib/python3.10/dist-packages (from matplotlib<4,>=3.6.0->copulas<0.10,>=0.9.0->sdv) (1.4.5)\n",
            "Requirement already satisfied: packaging>=20.0 in /usr/local/lib/python3.10/dist-packages (from matplotlib<4,>=3.6.0->copulas<0.10,>=0.9.0->sdv) (23.1)\n",
            "Requirement already satisfied: pillow>=6.2.0 in /usr/local/lib/python3.10/dist-packages (from matplotlib<4,>=3.6.0->copulas<0.10,>=0.9.0->sdv) (9.4.0)\n",
            "Requirement already satisfied: pyparsing>=2.3.1 in /usr/local/lib/python3.10/dist-packages (from matplotlib<4,>=3.6.0->copulas<0.10,>=0.9.0->sdv) (3.1.1)\n",
            "Requirement already satisfied: tenacity>=6.2.0 in /usr/local/lib/python3.10/dist-packages (from plotly<6,>=5.10.0->sdmetrics<0.12,>=0.11.0->sdv) (8.2.3)\n",
            "Requirement already satisfied: six>=1.5 in /usr/local/lib/python3.10/dist-packages (from python-dateutil<3.0.0,>=2.1->botocore<2,>=1.18->sdv) (1.16.0)\n",
            "Requirement already satisfied: joblib>=1.1.1 in /usr/local/lib/python3.10/dist-packages (from scikit-learn<2,>=1.1.3->ctgan<0.8,>=0.7.4->sdv) (1.3.2)\n",
            "Requirement already satisfied: threadpoolctl>=2.0.0 in /usr/local/lib/python3.10/dist-packages (from scikit-learn<2,>=1.1.3->ctgan<0.8,>=0.7.4->sdv) (3.2.0)\n",
            "Requirement already satisfied: filelock in /usr/local/lib/python3.10/dist-packages (from torch>=1.11.0->ctgan<0.8,>=0.7.4->sdv) (3.12.2)\n",
            "Requirement already satisfied: typing-extensions in /usr/local/lib/python3.10/dist-packages (from torch>=1.11.0->ctgan<0.8,>=0.7.4->sdv) (4.5.0)\n",
            "Requirement already satisfied: sympy in /usr/local/lib/python3.10/dist-packages (from torch>=1.11.0->ctgan<0.8,>=0.7.4->sdv) (1.12)\n",
            "Requirement already satisfied: networkx in /usr/local/lib/python3.10/dist-packages (from torch>=1.11.0->ctgan<0.8,>=0.7.4->sdv) (3.1)\n",
            "Requirement already satisfied: jinja2 in /usr/local/lib/python3.10/dist-packages (from torch>=1.11.0->ctgan<0.8,>=0.7.4->sdv) (3.1.2)\n",
            "Requirement already satisfied: triton==2.0.0 in /usr/local/lib/python3.10/dist-packages (from torch>=1.11.0->ctgan<0.8,>=0.7.4->sdv) (2.0.0)\n",
            "Requirement already satisfied: cmake in /usr/local/lib/python3.10/dist-packages (from triton==2.0.0->torch>=1.11.0->ctgan<0.8,>=0.7.4->sdv) (3.27.4.1)\n",
            "Requirement already satisfied: lit in /usr/local/lib/python3.10/dist-packages (from triton==2.0.0->torch>=1.11.0->ctgan<0.8,>=0.7.4->sdv) (16.0.6)\n",
            "Requirement already satisfied: MarkupSafe>=2.0 in /usr/local/lib/python3.10/dist-packages (from jinja2->torch>=1.11.0->ctgan<0.8,>=0.7.4->sdv) (2.1.3)\n",
            "Requirement already satisfied: mpmath>=0.19 in /usr/local/lib/python3.10/dist-packages (from sympy->torch>=1.11.0->ctgan<0.8,>=0.7.4->sdv) (1.3.0)\n",
            "Requirement already satisfied: urllib3==1.26 in /usr/local/lib/python3.10/dist-packages (1.26.0)\n",
            "\u001b[31mERROR: Operation cancelled by user\u001b[0m\u001b[31m\n",
            "\u001b[0m"
          ]
        }
      ]
    },
    {
      "cell_type": "code",
      "source": [
        "from sdv.datasets.local import load_csvs\n",
        "\n",
        "datasets = load_csvs(folder_name='/content/')\n",
        "df = datasets['Diabetes_dataset']"
      ],
      "metadata": {
        "id": "OadtHNAGhL2H",
        "colab": {
          "base_uri": "https://localhost:8080/"
        },
        "outputId": "3e02f99b-cc6a-4d93-9a8d-7f3aeb7bce60"
      },
      "execution_count": 720,
      "outputs": [
        {
          "output_type": "stream",
          "name": "stderr",
          "text": [
            "/usr/local/lib/python3.10/dist-packages/sdv/datasets/local.py:31: UserWarning: Ignoring incompatible files ['my_synthesizer.pkl'] in folder '/content/'.\n",
            "  warnings.warn(\n"
          ]
        }
      ]
    },
    {
      "cell_type": "code",
      "source": [
        "from sdv.metadata import SingleTableMetadata\n",
        "metadata = SingleTableMetadata()\n",
        "metadata.detect_from_csv(filepath='/content/Diabetes_dataset.csv')"
      ],
      "metadata": {
        "id": "FvvHKTAoh466"
      },
      "execution_count": 721,
      "outputs": []
    },
    {
      "cell_type": "code",
      "source": [
        "metadata.visualize()"
      ],
      "metadata": {
        "colab": {
          "base_uri": "https://localhost:8080/",
          "height": 224
        },
        "id": "W1hIyGlphYSx",
        "outputId": "b9b2a789-3d90-4d45-c110-435e4fbd400a"
      },
      "execution_count": 722,
      "outputs": [
        {
          "output_type": "execute_result",
          "data": {
            "image/svg+xml": "<?xml version=\"1.0\" encoding=\"UTF-8\" standalone=\"no\"?>\n<!DOCTYPE svg PUBLIC \"-//W3C//DTD SVG 1.1//EN\"\n \"http://www.w3.org/Graphics/SVG/1.1/DTD/svg11.dtd\">\n<!-- Generated by graphviz version 2.43.0 (0)\n -->\n<!-- Title: Metadata Pages: 1 -->\n<svg width=\"233pt\" height=\"152pt\"\n viewBox=\"0.00 0.00 233.00 152.00\" xmlns=\"http://www.w3.org/2000/svg\" xmlns:xlink=\"http://www.w3.org/1999/xlink\">\n<g id=\"graph0\" class=\"graph\" transform=\"scale(1 1) rotate(0) translate(4 148)\">\n<title>Metadata</title>\n<polygon fill=\"white\" stroke=\"transparent\" points=\"-4,4 -4,-148 229,-148 229,4 -4,4\"/>\n<g id=\"node1\" class=\"node\">\n<title></title>\n<path fill=\"#ffec8b\" stroke=\"black\" d=\"M12,-0.5C12,-0.5 213,-0.5 213,-0.5 219,-0.5 225,-6.5 225,-12.5 225,-12.5 225,-131.5 225,-131.5 225,-137.5 219,-143.5 213,-143.5 213,-143.5 12,-143.5 12,-143.5 6,-143.5 0,-137.5 0,-131.5 0,-131.5 0,-12.5 0,-12.5 0,-6.5 6,-0.5 12,-0.5\"/>\n<text text-anchor=\"start\" x=\"8\" y=\"-128.3\" font-family=\"Times,serif\" font-size=\"14.00\">Pregnancies : numerical</text>\n<text text-anchor=\"start\" x=\"8\" y=\"-113.3\" font-family=\"Times,serif\" font-size=\"14.00\">Glucose : numerical</text>\n<text text-anchor=\"start\" x=\"8\" y=\"-98.3\" font-family=\"Times,serif\" font-size=\"14.00\">BloodPressure : numerical</text>\n<text text-anchor=\"start\" x=\"8\" y=\"-83.3\" font-family=\"Times,serif\" font-size=\"14.00\">SkinThickness : numerical</text>\n<text text-anchor=\"start\" x=\"8\" y=\"-68.3\" font-family=\"Times,serif\" font-size=\"14.00\">Insulin : numerical</text>\n<text text-anchor=\"start\" x=\"8\" y=\"-53.3\" font-family=\"Times,serif\" font-size=\"14.00\">BMI : numerical</text>\n<text text-anchor=\"start\" x=\"8\" y=\"-38.3\" font-family=\"Times,serif\" font-size=\"14.00\">DiabetesPedigreeFunction : numerical</text>\n<text text-anchor=\"start\" x=\"8\" y=\"-23.3\" font-family=\"Times,serif\" font-size=\"14.00\">Age : numerical</text>\n<text text-anchor=\"start\" x=\"8\" y=\"-8.3\" font-family=\"Times,serif\" font-size=\"14.00\">Outcome : numerical</text>\n</g>\n</g>\n</svg>\n",
            "text/plain": [
              "<graphviz.graphs.Digraph at 0x78fe1d857b50>"
            ]
          },
          "metadata": {},
          "execution_count": 722
        }
      ]
    },
    {
      "cell_type": "code",
      "source": [
        "from sdv.lite import SingleTablePreset\n",
        "\n",
        "synthesizer = SingleTablePreset(\n",
        "    metadata,\n",
        "    name='FAST_ML'\n",
        ")"
      ],
      "metadata": {
        "id": "A-V1GDqoiBfs"
      },
      "execution_count": 723,
      "outputs": []
    },
    {
      "cell_type": "code",
      "source": [
        "synthesizer.fit(\n",
        "    data=datasets['Diabetes_dataset']\n",
        ")"
      ],
      "metadata": {
        "colab": {
          "base_uri": "https://localhost:8080/",
          "height": 369
        },
        "id": "C7LQocMYiEMp",
        "outputId": "e774461a-3479-4b1a-e11d-e6f47fba94d8"
      },
      "execution_count": 724,
      "outputs": [
        {
          "output_type": "error",
          "ename": "ContextualVersionConflict",
          "evalue": "ignored",
          "traceback": [
            "\u001b[0;31m---------------------------------------------------------------------------\u001b[0m",
            "\u001b[0;31mContextualVersionConflict\u001b[0m                 Traceback (most recent call last)",
            "\u001b[0;32m<ipython-input-724-9f457607bfb8>\u001b[0m in \u001b[0;36m<cell line: 1>\u001b[0;34m()\u001b[0m\n\u001b[0;32m----> 1\u001b[0;31m synthesizer.fit(\n\u001b[0m\u001b[1;32m      2\u001b[0m     \u001b[0mdata\u001b[0m\u001b[0;34m=\u001b[0m\u001b[0mdatasets\u001b[0m\u001b[0;34m[\u001b[0m\u001b[0;34m'Diabetes_dataset'\u001b[0m\u001b[0;34m]\u001b[0m\u001b[0;34m\u001b[0m\u001b[0;34m\u001b[0m\u001b[0m\n\u001b[1;32m      3\u001b[0m )\n",
            "\u001b[0;32m/usr/local/lib/python3.10/dist-packages/sdv/lite/single_table.py\u001b[0m in \u001b[0;36mfit\u001b[0;34m(self, data)\u001b[0m\n\u001b[1;32m     78\u001b[0m                 \u001b[0mData\u001b[0m \u001b[0mto\u001b[0m \u001b[0mfit\u001b[0m \u001b[0mthe\u001b[0m \u001b[0mmodel\u001b[0m \u001b[0mto\u001b[0m\u001b[0;34m.\u001b[0m\u001b[0;34m\u001b[0m\u001b[0;34m\u001b[0m\u001b[0m\n\u001b[1;32m     79\u001b[0m         \"\"\"\n\u001b[0;32m---> 80\u001b[0;31m         \u001b[0mself\u001b[0m\u001b[0;34m.\u001b[0m\u001b[0m_synthesizer\u001b[0m\u001b[0;34m.\u001b[0m\u001b[0mfit\u001b[0m\u001b[0;34m(\u001b[0m\u001b[0mdata\u001b[0m\u001b[0;34m)\u001b[0m\u001b[0;34m\u001b[0m\u001b[0;34m\u001b[0m\u001b[0m\n\u001b[0m\u001b[1;32m     81\u001b[0m \u001b[0;34m\u001b[0m\u001b[0m\n\u001b[1;32m     82\u001b[0m     \u001b[0;32mdef\u001b[0m \u001b[0msample\u001b[0m\u001b[0;34m(\u001b[0m\u001b[0mself\u001b[0m\u001b[0;34m,\u001b[0m \u001b[0mnum_rows\u001b[0m\u001b[0;34m,\u001b[0m \u001b[0mmax_tries_per_batch\u001b[0m\u001b[0;34m=\u001b[0m\u001b[0;36m100\u001b[0m\u001b[0;34m,\u001b[0m \u001b[0mbatch_size\u001b[0m\u001b[0;34m=\u001b[0m\u001b[0;32mNone\u001b[0m\u001b[0;34m,\u001b[0m \u001b[0moutput_file_path\u001b[0m\u001b[0;34m=\u001b[0m\u001b[0;32mNone\u001b[0m\u001b[0;34m)\u001b[0m\u001b[0;34m:\u001b[0m\u001b[0;34m\u001b[0m\u001b[0;34m\u001b[0m\u001b[0m\n",
            "\u001b[0;32m/usr/local/lib/python3.10/dist-packages/sdv/single_table/base.py\u001b[0m in \u001b[0;36mfit\u001b[0;34m(self, data)\u001b[0m\n\u001b[1;32m    376\u001b[0m         \u001b[0mself\u001b[0m\u001b[0;34m.\u001b[0m\u001b[0m_random_state_set\u001b[0m \u001b[0;34m=\u001b[0m \u001b[0;32mFalse\u001b[0m\u001b[0;34m\u001b[0m\u001b[0;34m\u001b[0m\u001b[0m\n\u001b[1;32m    377\u001b[0m         \u001b[0mprocessed_data\u001b[0m \u001b[0;34m=\u001b[0m \u001b[0mself\u001b[0m\u001b[0;34m.\u001b[0m\u001b[0m_preprocess\u001b[0m\u001b[0;34m(\u001b[0m\u001b[0mdata\u001b[0m\u001b[0;34m)\u001b[0m\u001b[0;34m\u001b[0m\u001b[0;34m\u001b[0m\u001b[0m\n\u001b[0;32m--> 378\u001b[0;31m         \u001b[0mself\u001b[0m\u001b[0;34m.\u001b[0m\u001b[0mfit_processed_data\u001b[0m\u001b[0;34m(\u001b[0m\u001b[0mprocessed_data\u001b[0m\u001b[0;34m)\u001b[0m\u001b[0;34m\u001b[0m\u001b[0;34m\u001b[0m\u001b[0m\n\u001b[0m\u001b[1;32m    379\u001b[0m \u001b[0;34m\u001b[0m\u001b[0m\n\u001b[1;32m    380\u001b[0m     \u001b[0;32mdef\u001b[0m \u001b[0msave\u001b[0m\u001b[0;34m(\u001b[0m\u001b[0mself\u001b[0m\u001b[0;34m,\u001b[0m \u001b[0mfilepath\u001b[0m\u001b[0;34m)\u001b[0m\u001b[0;34m:\u001b[0m\u001b[0;34m\u001b[0m\u001b[0;34m\u001b[0m\u001b[0m\n",
            "\u001b[0;32m/usr/local/lib/python3.10/dist-packages/sdv/single_table/base.py\u001b[0m in \u001b[0;36mfit_processed_data\u001b[0;34m(self, processed_data)\u001b[0m\n\u001b[1;32m    363\u001b[0m         \u001b[0mself\u001b[0m\u001b[0;34m.\u001b[0m\u001b[0m_fitted\u001b[0m \u001b[0;34m=\u001b[0m \u001b[0;32mTrue\u001b[0m\u001b[0;34m\u001b[0m\u001b[0;34m\u001b[0m\u001b[0m\n\u001b[1;32m    364\u001b[0m         \u001b[0mself\u001b[0m\u001b[0;34m.\u001b[0m\u001b[0m_fitted_date\u001b[0m \u001b[0;34m=\u001b[0m \u001b[0mdatetime\u001b[0m\u001b[0;34m.\u001b[0m\u001b[0mdatetime\u001b[0m\u001b[0;34m.\u001b[0m\u001b[0mtoday\u001b[0m\u001b[0;34m(\u001b[0m\u001b[0;34m)\u001b[0m\u001b[0;34m.\u001b[0m\u001b[0mstrftime\u001b[0m\u001b[0;34m(\u001b[0m\u001b[0;34m'%Y-%m-%d'\u001b[0m\u001b[0;34m)\u001b[0m\u001b[0;34m\u001b[0m\u001b[0;34m\u001b[0m\u001b[0m\n\u001b[0;32m--> 365\u001b[0;31m         \u001b[0mself\u001b[0m\u001b[0;34m.\u001b[0m\u001b[0m_fitted_sdv_version\u001b[0m \u001b[0;34m=\u001b[0m \u001b[0mpkg_resources\u001b[0m\u001b[0;34m.\u001b[0m\u001b[0mget_distribution\u001b[0m\u001b[0;34m(\u001b[0m\u001b[0;34m'sdv'\u001b[0m\u001b[0;34m)\u001b[0m\u001b[0;34m.\u001b[0m\u001b[0mversion\u001b[0m\u001b[0;34m\u001b[0m\u001b[0;34m\u001b[0m\u001b[0m\n\u001b[0m\u001b[1;32m    366\u001b[0m \u001b[0;34m\u001b[0m\u001b[0m\n\u001b[1;32m    367\u001b[0m     \u001b[0;32mdef\u001b[0m \u001b[0mfit\u001b[0m\u001b[0;34m(\u001b[0m\u001b[0mself\u001b[0m\u001b[0;34m,\u001b[0m \u001b[0mdata\u001b[0m\u001b[0;34m)\u001b[0m\u001b[0;34m:\u001b[0m\u001b[0;34m\u001b[0m\u001b[0;34m\u001b[0m\u001b[0m\n",
            "\u001b[0;32m/usr/local/lib/python3.10/dist-packages/pkg_resources/__init__.py\u001b[0m in \u001b[0;36mget_distribution\u001b[0;34m(dist)\u001b[0m\n\u001b[1;32m    524\u001b[0m         \u001b[0mdist\u001b[0m \u001b[0;34m=\u001b[0m \u001b[0mRequirement\u001b[0m\u001b[0;34m.\u001b[0m\u001b[0mparse\u001b[0m\u001b[0;34m(\u001b[0m\u001b[0mdist\u001b[0m\u001b[0;34m)\u001b[0m\u001b[0;34m\u001b[0m\u001b[0;34m\u001b[0m\u001b[0m\n\u001b[1;32m    525\u001b[0m     \u001b[0;32mif\u001b[0m \u001b[0misinstance\u001b[0m\u001b[0;34m(\u001b[0m\u001b[0mdist\u001b[0m\u001b[0;34m,\u001b[0m \u001b[0mRequirement\u001b[0m\u001b[0;34m)\u001b[0m\u001b[0;34m:\u001b[0m\u001b[0;34m\u001b[0m\u001b[0;34m\u001b[0m\u001b[0m\n\u001b[0;32m--> 526\u001b[0;31m         \u001b[0mdist\u001b[0m \u001b[0;34m=\u001b[0m \u001b[0mget_provider\u001b[0m\u001b[0;34m(\u001b[0m\u001b[0mdist\u001b[0m\u001b[0;34m)\u001b[0m\u001b[0;34m\u001b[0m\u001b[0;34m\u001b[0m\u001b[0m\n\u001b[0m\u001b[1;32m    527\u001b[0m     \u001b[0;32mif\u001b[0m \u001b[0;32mnot\u001b[0m \u001b[0misinstance\u001b[0m\u001b[0;34m(\u001b[0m\u001b[0mdist\u001b[0m\u001b[0;34m,\u001b[0m \u001b[0mDistribution\u001b[0m\u001b[0;34m)\u001b[0m\u001b[0;34m:\u001b[0m\u001b[0;34m\u001b[0m\u001b[0;34m\u001b[0m\u001b[0m\n\u001b[1;32m    528\u001b[0m         \u001b[0;32mraise\u001b[0m \u001b[0mTypeError\u001b[0m\u001b[0;34m(\u001b[0m\u001b[0;34m\"Expected string, Requirement, or Distribution\"\u001b[0m\u001b[0;34m,\u001b[0m \u001b[0mdist\u001b[0m\u001b[0;34m)\u001b[0m\u001b[0;34m\u001b[0m\u001b[0;34m\u001b[0m\u001b[0m\n",
            "\u001b[0;32m/usr/local/lib/python3.10/dist-packages/pkg_resources/__init__.py\u001b[0m in \u001b[0;36mget_provider\u001b[0;34m(moduleOrReq)\u001b[0m\n\u001b[1;32m    396\u001b[0m     \u001b[0;34m\"\"\"Return an IResourceProvider for the named module or requirement\"\"\"\u001b[0m\u001b[0;34m\u001b[0m\u001b[0;34m\u001b[0m\u001b[0m\n\u001b[1;32m    397\u001b[0m     \u001b[0;32mif\u001b[0m \u001b[0misinstance\u001b[0m\u001b[0;34m(\u001b[0m\u001b[0mmoduleOrReq\u001b[0m\u001b[0;34m,\u001b[0m \u001b[0mRequirement\u001b[0m\u001b[0;34m)\u001b[0m\u001b[0;34m:\u001b[0m\u001b[0;34m\u001b[0m\u001b[0;34m\u001b[0m\u001b[0m\n\u001b[0;32m--> 398\u001b[0;31m         \u001b[0;32mreturn\u001b[0m \u001b[0mworking_set\u001b[0m\u001b[0;34m.\u001b[0m\u001b[0mfind\u001b[0m\u001b[0;34m(\u001b[0m\u001b[0mmoduleOrReq\u001b[0m\u001b[0;34m)\u001b[0m \u001b[0;32mor\u001b[0m \u001b[0mrequire\u001b[0m\u001b[0;34m(\u001b[0m\u001b[0mstr\u001b[0m\u001b[0;34m(\u001b[0m\u001b[0mmoduleOrReq\u001b[0m\u001b[0;34m)\u001b[0m\u001b[0;34m)\u001b[0m\u001b[0;34m[\u001b[0m\u001b[0;36m0\u001b[0m\u001b[0;34m]\u001b[0m\u001b[0;34m\u001b[0m\u001b[0;34m\u001b[0m\u001b[0m\n\u001b[0m\u001b[1;32m    399\u001b[0m     \u001b[0;32mtry\u001b[0m\u001b[0;34m:\u001b[0m\u001b[0;34m\u001b[0m\u001b[0;34m\u001b[0m\u001b[0m\n\u001b[1;32m    400\u001b[0m         \u001b[0mmodule\u001b[0m \u001b[0;34m=\u001b[0m \u001b[0msys\u001b[0m\u001b[0;34m.\u001b[0m\u001b[0mmodules\u001b[0m\u001b[0;34m[\u001b[0m\u001b[0mmoduleOrReq\u001b[0m\u001b[0;34m]\u001b[0m\u001b[0;34m\u001b[0m\u001b[0;34m\u001b[0m\u001b[0m\n",
            "\u001b[0;32m/usr/local/lib/python3.10/dist-packages/pkg_resources/__init__.py\u001b[0m in \u001b[0;36mrequire\u001b[0;34m(self, *requirements)\u001b[0m\n\u001b[1;32m    964\u001b[0m         \u001b[0mincluded\u001b[0m\u001b[0;34m,\u001b[0m \u001b[0meven\u001b[0m \u001b[0;32mif\u001b[0m \u001b[0mthey\u001b[0m \u001b[0mwere\u001b[0m \u001b[0malready\u001b[0m \u001b[0mactivated\u001b[0m \u001b[0;32min\u001b[0m \u001b[0mthis\u001b[0m \u001b[0mworking\u001b[0m \u001b[0mset\u001b[0m\u001b[0;34m.\u001b[0m\u001b[0;34m\u001b[0m\u001b[0;34m\u001b[0m\u001b[0m\n\u001b[1;32m    965\u001b[0m         \"\"\"\n\u001b[0;32m--> 966\u001b[0;31m         \u001b[0mneeded\u001b[0m \u001b[0;34m=\u001b[0m \u001b[0mself\u001b[0m\u001b[0;34m.\u001b[0m\u001b[0mresolve\u001b[0m\u001b[0;34m(\u001b[0m\u001b[0mparse_requirements\u001b[0m\u001b[0;34m(\u001b[0m\u001b[0mrequirements\u001b[0m\u001b[0;34m)\u001b[0m\u001b[0;34m)\u001b[0m\u001b[0;34m\u001b[0m\u001b[0;34m\u001b[0m\u001b[0m\n\u001b[0m\u001b[1;32m    967\u001b[0m \u001b[0;34m\u001b[0m\u001b[0m\n\u001b[1;32m    968\u001b[0m         \u001b[0;32mfor\u001b[0m \u001b[0mdist\u001b[0m \u001b[0;32min\u001b[0m \u001b[0mneeded\u001b[0m\u001b[0;34m:\u001b[0m\u001b[0;34m\u001b[0m\u001b[0;34m\u001b[0m\u001b[0m\n",
            "\u001b[0;32m/usr/local/lib/python3.10/dist-packages/pkg_resources/__init__.py\u001b[0m in \u001b[0;36mresolve\u001b[0;34m(self, requirements, env, installer, replace_conflicting, extras)\u001b[0m\n\u001b[1;32m    825\u001b[0m                 \u001b[0;32mcontinue\u001b[0m\u001b[0;34m\u001b[0m\u001b[0;34m\u001b[0m\u001b[0m\n\u001b[1;32m    826\u001b[0m \u001b[0;34m\u001b[0m\u001b[0m\n\u001b[0;32m--> 827\u001b[0;31m             dist = self._resolve_dist(\n\u001b[0m\u001b[1;32m    828\u001b[0m                 \u001b[0mreq\u001b[0m\u001b[0;34m,\u001b[0m \u001b[0mbest\u001b[0m\u001b[0;34m,\u001b[0m \u001b[0mreplace_conflicting\u001b[0m\u001b[0;34m,\u001b[0m \u001b[0menv\u001b[0m\u001b[0;34m,\u001b[0m \u001b[0minstaller\u001b[0m\u001b[0;34m,\u001b[0m \u001b[0mrequired_by\u001b[0m\u001b[0;34m,\u001b[0m \u001b[0mto_activate\u001b[0m\u001b[0;34m\u001b[0m\u001b[0;34m\u001b[0m\u001b[0m\n\u001b[1;32m    829\u001b[0m             )\n",
            "\u001b[0;32m/usr/local/lib/python3.10/dist-packages/pkg_resources/__init__.py\u001b[0m in \u001b[0;36m_resolve_dist\u001b[0;34m(self, req, best, replace_conflicting, env, installer, required_by, to_activate)\u001b[0m\n\u001b[1;32m    871\u001b[0m             \u001b[0;31m# Oops, the \"best\" so far conflicts with a dependency\u001b[0m\u001b[0;34m\u001b[0m\u001b[0;34m\u001b[0m\u001b[0m\n\u001b[1;32m    872\u001b[0m             \u001b[0mdependent_req\u001b[0m \u001b[0;34m=\u001b[0m \u001b[0mrequired_by\u001b[0m\u001b[0;34m[\u001b[0m\u001b[0mreq\u001b[0m\u001b[0;34m]\u001b[0m\u001b[0;34m\u001b[0m\u001b[0;34m\u001b[0m\u001b[0m\n\u001b[0;32m--> 873\u001b[0;31m             \u001b[0;32mraise\u001b[0m \u001b[0mVersionConflict\u001b[0m\u001b[0;34m(\u001b[0m\u001b[0mdist\u001b[0m\u001b[0;34m,\u001b[0m \u001b[0mreq\u001b[0m\u001b[0;34m)\u001b[0m\u001b[0;34m.\u001b[0m\u001b[0mwith_context\u001b[0m\u001b[0;34m(\u001b[0m\u001b[0mdependent_req\u001b[0m\u001b[0;34m)\u001b[0m\u001b[0;34m\u001b[0m\u001b[0;34m\u001b[0m\u001b[0m\n\u001b[0m\u001b[1;32m    874\u001b[0m         \u001b[0;32mreturn\u001b[0m \u001b[0mdist\u001b[0m\u001b[0;34m\u001b[0m\u001b[0;34m\u001b[0m\u001b[0m\n\u001b[1;32m    875\u001b[0m \u001b[0;34m\u001b[0m\u001b[0m\n",
            "\u001b[0;31mContextualVersionConflict\u001b[0m: (urllib3 2.0.4 (/usr/local/lib/python3.10/dist-packages), Requirement.parse('urllib3<1.27,>=1.25.4'), {'botocore'})"
          ]
        }
      ]
    },
    {
      "cell_type": "code",
      "source": [
        "df.head()"
      ],
      "metadata": {
        "id": "Qsf7BCqyiLL-"
      },
      "execution_count": null,
      "outputs": []
    },
    {
      "cell_type": "code",
      "source": [
        "synthetic_data = synthesizer.sample(\n",
        "    num_rows=500\n",
        ")\n",
        "synthetic_data.head()"
      ],
      "metadata": {
        "id": "-ndPzUApiPkC"
      },
      "execution_count": null,
      "outputs": []
    },
    {
      "cell_type": "code",
      "source": [
        "from sdv.evaluation.single_table import evaluate_quality\n",
        "\n",
        "quality_report = evaluate_quality(\n",
        "    df,\n",
        "    synthetic_data,\n",
        "    metadata\n",
        ")"
      ],
      "metadata": {
        "id": "0DmWf7B4iS4-"
      },
      "execution_count": null,
      "outputs": []
    },
    {
      "cell_type": "code",
      "source": [
        "synthesizer.save('my_synthesizer.pkl')\n",
        "\n",
        "synthesizer = SingleTablePreset.load('my_synthesizer.pkl')"
      ],
      "metadata": {
        "id": "U1BVzS3tiXhk"
      },
      "execution_count": null,
      "outputs": []
    },
    {
      "cell_type": "code",
      "source": [
        "synthetic_data"
      ],
      "metadata": {
        "id": "MqvIPN3aia0D"
      },
      "execution_count": null,
      "outputs": []
    },
    {
      "cell_type": "code",
      "source": [
        "synthesizer\n",
        "synthetic_data.to_csv('Diabetes_Dataset.csv')"
      ],
      "metadata": {
        "id": "tbJ0ctdwidyN"
      },
      "execution_count": null,
      "outputs": []
    },
    {
      "cell_type": "markdown",
      "source": [
        "\n",
        "\n",
        "\n",
        "\n",
        "# ***2. Preprocess and perform exploratory data analysis of the dataset obtained***"
      ],
      "metadata": {
        "id": "rDu7bwbNRhaK"
      }
    },
    {
      "cell_type": "code",
      "source": [
        "import pandas as pd\n",
        "import numpy as np\n",
        "from matplotlib import pyplot as plt\n",
        "%matplotlib inline\n",
        "import random\n",
        "import seaborn as sns\n",
        "from sklearn.model_selection import train_test_split\n",
        "from sklearn.metrics import mean_squared_error\n",
        "from sklearn.metrics import accuracy_score\n",
        "from sklearn.metrics import f1_score\n",
        "from sklearn import metrics\n"
      ],
      "metadata": {
        "id": "oAd4cNwERr90"
      },
      "execution_count": 725,
      "outputs": []
    },
    {
      "cell_type": "code",
      "source": [
        "gdf=pd.read_csv('Diabetes_Dataset.csv')\n",
        "gdf.head()"
      ],
      "metadata": {
        "id": "kBTg0pQuXEt-",
        "colab": {
          "base_uri": "https://localhost:8080/",
          "height": 206
        },
        "outputId": "ccf92285-2ffe-484a-99c9-da89e3a9d9be"
      },
      "execution_count": 726,
      "outputs": [
        {
          "output_type": "execute_result",
          "data": {
            "text/plain": [
              "   Unnamed: 0  Pregnancies  Glucose  BloodPressure  SkinThickness  Insulin  \\\n",
              "0           0            7      149             96             19       10   \n",
              "1           1            0      151             44              6      105   \n",
              "2           2            3      169             57             24      240   \n",
              "3           3            4       86             61             35        0   \n",
              "4           4            6       75             62             31       77   \n",
              "\n",
              "         BMI  DiabetesPedigreeFunction  Age  Outcome  \n",
              "0  38.387409                  0.561331   40        1  \n",
              "1  26.125923                  0.463959   27        1  \n",
              "2  33.224573                  0.541364   36        0  \n",
              "3  32.918264                  0.526311   39        0  \n",
              "4  37.453830                  0.178734   21        0  "
            ],
            "text/html": [
              "\n",
              "  <div id=\"df-2b0b51c6-71a3-41f5-988c-70d48e304cce\" class=\"colab-df-container\">\n",
              "    <div>\n",
              "<style scoped>\n",
              "    .dataframe tbody tr th:only-of-type {\n",
              "        vertical-align: middle;\n",
              "    }\n",
              "\n",
              "    .dataframe tbody tr th {\n",
              "        vertical-align: top;\n",
              "    }\n",
              "\n",
              "    .dataframe thead th {\n",
              "        text-align: right;\n",
              "    }\n",
              "</style>\n",
              "<table border=\"1\" class=\"dataframe\">\n",
              "  <thead>\n",
              "    <tr style=\"text-align: right;\">\n",
              "      <th></th>\n",
              "      <th>Unnamed: 0</th>\n",
              "      <th>Pregnancies</th>\n",
              "      <th>Glucose</th>\n",
              "      <th>BloodPressure</th>\n",
              "      <th>SkinThickness</th>\n",
              "      <th>Insulin</th>\n",
              "      <th>BMI</th>\n",
              "      <th>DiabetesPedigreeFunction</th>\n",
              "      <th>Age</th>\n",
              "      <th>Outcome</th>\n",
              "    </tr>\n",
              "  </thead>\n",
              "  <tbody>\n",
              "    <tr>\n",
              "      <th>0</th>\n",
              "      <td>0</td>\n",
              "      <td>7</td>\n",
              "      <td>149</td>\n",
              "      <td>96</td>\n",
              "      <td>19</td>\n",
              "      <td>10</td>\n",
              "      <td>38.387409</td>\n",
              "      <td>0.561331</td>\n",
              "      <td>40</td>\n",
              "      <td>1</td>\n",
              "    </tr>\n",
              "    <tr>\n",
              "      <th>1</th>\n",
              "      <td>1</td>\n",
              "      <td>0</td>\n",
              "      <td>151</td>\n",
              "      <td>44</td>\n",
              "      <td>6</td>\n",
              "      <td>105</td>\n",
              "      <td>26.125923</td>\n",
              "      <td>0.463959</td>\n",
              "      <td>27</td>\n",
              "      <td>1</td>\n",
              "    </tr>\n",
              "    <tr>\n",
              "      <th>2</th>\n",
              "      <td>2</td>\n",
              "      <td>3</td>\n",
              "      <td>169</td>\n",
              "      <td>57</td>\n",
              "      <td>24</td>\n",
              "      <td>240</td>\n",
              "      <td>33.224573</td>\n",
              "      <td>0.541364</td>\n",
              "      <td>36</td>\n",
              "      <td>0</td>\n",
              "    </tr>\n",
              "    <tr>\n",
              "      <th>3</th>\n",
              "      <td>3</td>\n",
              "      <td>4</td>\n",
              "      <td>86</td>\n",
              "      <td>61</td>\n",
              "      <td>35</td>\n",
              "      <td>0</td>\n",
              "      <td>32.918264</td>\n",
              "      <td>0.526311</td>\n",
              "      <td>39</td>\n",
              "      <td>0</td>\n",
              "    </tr>\n",
              "    <tr>\n",
              "      <th>4</th>\n",
              "      <td>4</td>\n",
              "      <td>6</td>\n",
              "      <td>75</td>\n",
              "      <td>62</td>\n",
              "      <td>31</td>\n",
              "      <td>77</td>\n",
              "      <td>37.453830</td>\n",
              "      <td>0.178734</td>\n",
              "      <td>21</td>\n",
              "      <td>0</td>\n",
              "    </tr>\n",
              "  </tbody>\n",
              "</table>\n",
              "</div>\n",
              "    <div class=\"colab-df-buttons\">\n",
              "\n",
              "  <div class=\"colab-df-container\">\n",
              "    <button class=\"colab-df-convert\" onclick=\"convertToInteractive('df-2b0b51c6-71a3-41f5-988c-70d48e304cce')\"\n",
              "            title=\"Convert this dataframe to an interactive table.\"\n",
              "            style=\"display:none;\">\n",
              "\n",
              "  <svg xmlns=\"http://www.w3.org/2000/svg\" height=\"24px\" viewBox=\"0 -960 960 960\">\n",
              "    <path d=\"M120-120v-720h720v720H120Zm60-500h600v-160H180v160Zm220 220h160v-160H400v160Zm0 220h160v-160H400v160ZM180-400h160v-160H180v160Zm440 0h160v-160H620v160ZM180-180h160v-160H180v160Zm440 0h160v-160H620v160Z\"/>\n",
              "  </svg>\n",
              "    </button>\n",
              "\n",
              "  <style>\n",
              "    .colab-df-container {\n",
              "      display:flex;\n",
              "      gap: 12px;\n",
              "    }\n",
              "\n",
              "    .colab-df-convert {\n",
              "      background-color: #E8F0FE;\n",
              "      border: none;\n",
              "      border-radius: 50%;\n",
              "      cursor: pointer;\n",
              "      display: none;\n",
              "      fill: #1967D2;\n",
              "      height: 32px;\n",
              "      padding: 0 0 0 0;\n",
              "      width: 32px;\n",
              "    }\n",
              "\n",
              "    .colab-df-convert:hover {\n",
              "      background-color: #E2EBFA;\n",
              "      box-shadow: 0px 1px 2px rgba(60, 64, 67, 0.3), 0px 1px 3px 1px rgba(60, 64, 67, 0.15);\n",
              "      fill: #174EA6;\n",
              "    }\n",
              "\n",
              "    .colab-df-buttons div {\n",
              "      margin-bottom: 4px;\n",
              "    }\n",
              "\n",
              "    [theme=dark] .colab-df-convert {\n",
              "      background-color: #3B4455;\n",
              "      fill: #D2E3FC;\n",
              "    }\n",
              "\n",
              "    [theme=dark] .colab-df-convert:hover {\n",
              "      background-color: #434B5C;\n",
              "      box-shadow: 0px 1px 3px 1px rgba(0, 0, 0, 0.15);\n",
              "      filter: drop-shadow(0px 1px 2px rgba(0, 0, 0, 0.3));\n",
              "      fill: #FFFFFF;\n",
              "    }\n",
              "  </style>\n",
              "\n",
              "    <script>\n",
              "      const buttonEl =\n",
              "        document.querySelector('#df-2b0b51c6-71a3-41f5-988c-70d48e304cce button.colab-df-convert');\n",
              "      buttonEl.style.display =\n",
              "        google.colab.kernel.accessAllowed ? 'block' : 'none';\n",
              "\n",
              "      async function convertToInteractive(key) {\n",
              "        const element = document.querySelector('#df-2b0b51c6-71a3-41f5-988c-70d48e304cce');\n",
              "        const dataTable =\n",
              "          await google.colab.kernel.invokeFunction('convertToInteractive',\n",
              "                                                    [key], {});\n",
              "        if (!dataTable) return;\n",
              "\n",
              "        const docLinkHtml = 'Like what you see? Visit the ' +\n",
              "          '<a target=\"_blank\" href=https://colab.research.google.com/notebooks/data_table.ipynb>data table notebook</a>'\n",
              "          + ' to learn more about interactive tables.';\n",
              "        element.innerHTML = '';\n",
              "        dataTable['output_type'] = 'display_data';\n",
              "        await google.colab.output.renderOutput(dataTable, element);\n",
              "        const docLink = document.createElement('div');\n",
              "        docLink.innerHTML = docLinkHtml;\n",
              "        element.appendChild(docLink);\n",
              "      }\n",
              "    </script>\n",
              "  </div>\n",
              "\n",
              "\n",
              "<div id=\"df-a47f2ccb-c5f7-4a45-a7a1-7fb067cd7678\">\n",
              "  <button class=\"colab-df-quickchart\" onclick=\"quickchart('df-a47f2ccb-c5f7-4a45-a7a1-7fb067cd7678')\"\n",
              "            title=\"Suggest charts.\"\n",
              "            style=\"display:none;\">\n",
              "\n",
              "<svg xmlns=\"http://www.w3.org/2000/svg\" height=\"24px\"viewBox=\"0 0 24 24\"\n",
              "     width=\"24px\">\n",
              "    <g>\n",
              "        <path d=\"M19 3H5c-1.1 0-2 .9-2 2v14c0 1.1.9 2 2 2h14c1.1 0 2-.9 2-2V5c0-1.1-.9-2-2-2zM9 17H7v-7h2v7zm4 0h-2V7h2v10zm4 0h-2v-4h2v4z\"/>\n",
              "    </g>\n",
              "</svg>\n",
              "  </button>\n",
              "\n",
              "<style>\n",
              "  .colab-df-quickchart {\n",
              "      --bg-color: #E8F0FE;\n",
              "      --fill-color: #1967D2;\n",
              "      --hover-bg-color: #E2EBFA;\n",
              "      --hover-fill-color: #174EA6;\n",
              "      --disabled-fill-color: #AAA;\n",
              "      --disabled-bg-color: #DDD;\n",
              "  }\n",
              "\n",
              "  [theme=dark] .colab-df-quickchart {\n",
              "      --bg-color: #3B4455;\n",
              "      --fill-color: #D2E3FC;\n",
              "      --hover-bg-color: #434B5C;\n",
              "      --hover-fill-color: #FFFFFF;\n",
              "      --disabled-bg-color: #3B4455;\n",
              "      --disabled-fill-color: #666;\n",
              "  }\n",
              "\n",
              "  .colab-df-quickchart {\n",
              "    background-color: var(--bg-color);\n",
              "    border: none;\n",
              "    border-radius: 50%;\n",
              "    cursor: pointer;\n",
              "    display: none;\n",
              "    fill: var(--fill-color);\n",
              "    height: 32px;\n",
              "    padding: 0;\n",
              "    width: 32px;\n",
              "  }\n",
              "\n",
              "  .colab-df-quickchart:hover {\n",
              "    background-color: var(--hover-bg-color);\n",
              "    box-shadow: 0 1px 2px rgba(60, 64, 67, 0.3), 0 1px 3px 1px rgba(60, 64, 67, 0.15);\n",
              "    fill: var(--button-hover-fill-color);\n",
              "  }\n",
              "\n",
              "  .colab-df-quickchart-complete:disabled,\n",
              "  .colab-df-quickchart-complete:disabled:hover {\n",
              "    background-color: var(--disabled-bg-color);\n",
              "    fill: var(--disabled-fill-color);\n",
              "    box-shadow: none;\n",
              "  }\n",
              "\n",
              "  .colab-df-spinner {\n",
              "    border: 2px solid var(--fill-color);\n",
              "    border-color: transparent;\n",
              "    border-bottom-color: var(--fill-color);\n",
              "    animation:\n",
              "      spin 1s steps(1) infinite;\n",
              "  }\n",
              "\n",
              "  @keyframes spin {\n",
              "    0% {\n",
              "      border-color: transparent;\n",
              "      border-bottom-color: var(--fill-color);\n",
              "      border-left-color: var(--fill-color);\n",
              "    }\n",
              "    20% {\n",
              "      border-color: transparent;\n",
              "      border-left-color: var(--fill-color);\n",
              "      border-top-color: var(--fill-color);\n",
              "    }\n",
              "    30% {\n",
              "      border-color: transparent;\n",
              "      border-left-color: var(--fill-color);\n",
              "      border-top-color: var(--fill-color);\n",
              "      border-right-color: var(--fill-color);\n",
              "    }\n",
              "    40% {\n",
              "      border-color: transparent;\n",
              "      border-right-color: var(--fill-color);\n",
              "      border-top-color: var(--fill-color);\n",
              "    }\n",
              "    60% {\n",
              "      border-color: transparent;\n",
              "      border-right-color: var(--fill-color);\n",
              "    }\n",
              "    80% {\n",
              "      border-color: transparent;\n",
              "      border-right-color: var(--fill-color);\n",
              "      border-bottom-color: var(--fill-color);\n",
              "    }\n",
              "    90% {\n",
              "      border-color: transparent;\n",
              "      border-bottom-color: var(--fill-color);\n",
              "    }\n",
              "  }\n",
              "</style>\n",
              "\n",
              "  <script>\n",
              "    async function quickchart(key) {\n",
              "      const quickchartButtonEl =\n",
              "        document.querySelector('#' + key + ' button');\n",
              "      quickchartButtonEl.disabled = true;  // To prevent multiple clicks.\n",
              "      quickchartButtonEl.classList.add('colab-df-spinner');\n",
              "      try {\n",
              "        const charts = await google.colab.kernel.invokeFunction(\n",
              "            'suggestCharts', [key], {});\n",
              "      } catch (error) {\n",
              "        console.error('Error during call to suggestCharts:', error);\n",
              "      }\n",
              "      quickchartButtonEl.classList.remove('colab-df-spinner');\n",
              "      quickchartButtonEl.classList.add('colab-df-quickchart-complete');\n",
              "    }\n",
              "    (() => {\n",
              "      let quickchartButtonEl =\n",
              "        document.querySelector('#df-a47f2ccb-c5f7-4a45-a7a1-7fb067cd7678 button');\n",
              "      quickchartButtonEl.style.display =\n",
              "        google.colab.kernel.accessAllowed ? 'block' : 'none';\n",
              "    })();\n",
              "  </script>\n",
              "</div>\n",
              "    </div>\n",
              "  </div>\n"
            ]
          },
          "metadata": {},
          "execution_count": 726
        }
      ]
    },
    {
      "cell_type": "code",
      "source": [
        "gdf.isna().sum()\n",
        "# there are no Nan values in the dataset generated"
      ],
      "metadata": {
        "id": "lNrGgwM_kp59",
        "colab": {
          "base_uri": "https://localhost:8080/"
        },
        "outputId": "0588249c-6443-4cf9-b598-205ccc5b2ed6"
      },
      "execution_count": 727,
      "outputs": [
        {
          "output_type": "execute_result",
          "data": {
            "text/plain": [
              "Unnamed: 0                  0\n",
              "Pregnancies                 0\n",
              "Glucose                     0\n",
              "BloodPressure               0\n",
              "SkinThickness               0\n",
              "Insulin                     0\n",
              "BMI                         0\n",
              "DiabetesPedigreeFunction    0\n",
              "Age                         0\n",
              "Outcome                     0\n",
              "dtype: int64"
            ]
          },
          "metadata": {},
          "execution_count": 727
        }
      ]
    },
    {
      "cell_type": "code",
      "source": [
        "gdf.isnull().sum()\n",
        "# there are no null values in the dataset generated"
      ],
      "metadata": {
        "id": "z3ThopRWkt1g",
        "colab": {
          "base_uri": "https://localhost:8080/"
        },
        "outputId": "5c1f8adb-67b6-4c7d-b2c6-51478998b613"
      },
      "execution_count": 728,
      "outputs": [
        {
          "output_type": "execute_result",
          "data": {
            "text/plain": [
              "Unnamed: 0                  0\n",
              "Pregnancies                 0\n",
              "Glucose                     0\n",
              "BloodPressure               0\n",
              "SkinThickness               0\n",
              "Insulin                     0\n",
              "BMI                         0\n",
              "DiabetesPedigreeFunction    0\n",
              "Age                         0\n",
              "Outcome                     0\n",
              "dtype: int64"
            ]
          },
          "metadata": {},
          "execution_count": 728
        }
      ]
    },
    {
      "cell_type": "code",
      "source": [
        "gdf.info()"
      ],
      "metadata": {
        "id": "MeiKCxapk5ZM",
        "colab": {
          "base_uri": "https://localhost:8080/"
        },
        "outputId": "9ddae4de-6763-467d-bff3-1b125e6787d0"
      },
      "execution_count": 729,
      "outputs": [
        {
          "output_type": "stream",
          "name": "stdout",
          "text": [
            "<class 'pandas.core.frame.DataFrame'>\n",
            "RangeIndex: 500 entries, 0 to 499\n",
            "Data columns (total 10 columns):\n",
            " #   Column                    Non-Null Count  Dtype  \n",
            "---  ------                    --------------  -----  \n",
            " 0   Unnamed: 0                500 non-null    int64  \n",
            " 1   Pregnancies               500 non-null    int64  \n",
            " 2   Glucose                   500 non-null    int64  \n",
            " 3   BloodPressure             500 non-null    int64  \n",
            " 4   SkinThickness             500 non-null    int64  \n",
            " 5   Insulin                   500 non-null    int64  \n",
            " 6   BMI                       500 non-null    float64\n",
            " 7   DiabetesPedigreeFunction  500 non-null    float64\n",
            " 8   Age                       500 non-null    int64  \n",
            " 9   Outcome                   500 non-null    int64  \n",
            "dtypes: float64(2), int64(8)\n",
            "memory usage: 39.2 KB\n"
          ]
        }
      ]
    },
    {
      "cell_type": "code",
      "source": [
        "gdf.describe()"
      ],
      "metadata": {
        "id": "UXVbx0F3kyOa",
        "colab": {
          "base_uri": "https://localhost:8080/",
          "height": 300
        },
        "outputId": "f948dca7-7969-4017-d47b-03b6ccc5f26d"
      },
      "execution_count": 730,
      "outputs": [
        {
          "output_type": "execute_result",
          "data": {
            "text/plain": [
              "       Unnamed: 0  Pregnancies     Glucose  BloodPressure  SkinThickness  \\\n",
              "count  500.000000   500.000000  500.000000     500.000000     500.000000   \n",
              "mean   249.500000     4.006000  120.454000      71.080000      21.778000   \n",
              "std    144.481833     3.052967   33.702754      18.964517      13.916467   \n",
              "min      0.000000     0.000000   14.000000      22.000000       0.000000   \n",
              "25%    124.750000     2.000000   98.000000      58.000000      11.000000   \n",
              "50%    249.500000     4.000000  120.500000      71.000000      22.000000   \n",
              "75%    374.250000     6.000000  145.000000      85.000000      32.000000   \n",
              "max    499.000000    17.000000  199.000000     122.000000      55.000000   \n",
              "\n",
              "          Insulin         BMI  DiabetesPedigreeFunction       Age     Outcome  \n",
              "count  500.000000  500.000000                500.000000  500.0000  500.000000  \n",
              "mean    97.290000   32.518053                  0.511352   34.4500    0.330000  \n",
              "std     92.202932    7.887027                  0.299594   10.0826    0.470684  \n",
              "min      0.000000   10.903340                  0.078000   21.0000    0.000000  \n",
              "25%      1.000000   27.161187                  0.255483   27.0000    0.000000  \n",
              "50%     78.000000   32.593184                  0.508918   33.0000    0.000000  \n",
              "75%    165.000000   37.500736                  0.735819   41.0000    1.000000  \n",
              "max    378.000000   59.937412                  1.413874   73.0000    1.000000  "
            ],
            "text/html": [
              "\n",
              "  <div id=\"df-3e7b03c2-f10d-4ef2-bae2-055318ad7140\" class=\"colab-df-container\">\n",
              "    <div>\n",
              "<style scoped>\n",
              "    .dataframe tbody tr th:only-of-type {\n",
              "        vertical-align: middle;\n",
              "    }\n",
              "\n",
              "    .dataframe tbody tr th {\n",
              "        vertical-align: top;\n",
              "    }\n",
              "\n",
              "    .dataframe thead th {\n",
              "        text-align: right;\n",
              "    }\n",
              "</style>\n",
              "<table border=\"1\" class=\"dataframe\">\n",
              "  <thead>\n",
              "    <tr style=\"text-align: right;\">\n",
              "      <th></th>\n",
              "      <th>Unnamed: 0</th>\n",
              "      <th>Pregnancies</th>\n",
              "      <th>Glucose</th>\n",
              "      <th>BloodPressure</th>\n",
              "      <th>SkinThickness</th>\n",
              "      <th>Insulin</th>\n",
              "      <th>BMI</th>\n",
              "      <th>DiabetesPedigreeFunction</th>\n",
              "      <th>Age</th>\n",
              "      <th>Outcome</th>\n",
              "    </tr>\n",
              "  </thead>\n",
              "  <tbody>\n",
              "    <tr>\n",
              "      <th>count</th>\n",
              "      <td>500.000000</td>\n",
              "      <td>500.000000</td>\n",
              "      <td>500.000000</td>\n",
              "      <td>500.000000</td>\n",
              "      <td>500.000000</td>\n",
              "      <td>500.000000</td>\n",
              "      <td>500.000000</td>\n",
              "      <td>500.000000</td>\n",
              "      <td>500.0000</td>\n",
              "      <td>500.000000</td>\n",
              "    </tr>\n",
              "    <tr>\n",
              "      <th>mean</th>\n",
              "      <td>249.500000</td>\n",
              "      <td>4.006000</td>\n",
              "      <td>120.454000</td>\n",
              "      <td>71.080000</td>\n",
              "      <td>21.778000</td>\n",
              "      <td>97.290000</td>\n",
              "      <td>32.518053</td>\n",
              "      <td>0.511352</td>\n",
              "      <td>34.4500</td>\n",
              "      <td>0.330000</td>\n",
              "    </tr>\n",
              "    <tr>\n",
              "      <th>std</th>\n",
              "      <td>144.481833</td>\n",
              "      <td>3.052967</td>\n",
              "      <td>33.702754</td>\n",
              "      <td>18.964517</td>\n",
              "      <td>13.916467</td>\n",
              "      <td>92.202932</td>\n",
              "      <td>7.887027</td>\n",
              "      <td>0.299594</td>\n",
              "      <td>10.0826</td>\n",
              "      <td>0.470684</td>\n",
              "    </tr>\n",
              "    <tr>\n",
              "      <th>min</th>\n",
              "      <td>0.000000</td>\n",
              "      <td>0.000000</td>\n",
              "      <td>14.000000</td>\n",
              "      <td>22.000000</td>\n",
              "      <td>0.000000</td>\n",
              "      <td>0.000000</td>\n",
              "      <td>10.903340</td>\n",
              "      <td>0.078000</td>\n",
              "      <td>21.0000</td>\n",
              "      <td>0.000000</td>\n",
              "    </tr>\n",
              "    <tr>\n",
              "      <th>25%</th>\n",
              "      <td>124.750000</td>\n",
              "      <td>2.000000</td>\n",
              "      <td>98.000000</td>\n",
              "      <td>58.000000</td>\n",
              "      <td>11.000000</td>\n",
              "      <td>1.000000</td>\n",
              "      <td>27.161187</td>\n",
              "      <td>0.255483</td>\n",
              "      <td>27.0000</td>\n",
              "      <td>0.000000</td>\n",
              "    </tr>\n",
              "    <tr>\n",
              "      <th>50%</th>\n",
              "      <td>249.500000</td>\n",
              "      <td>4.000000</td>\n",
              "      <td>120.500000</td>\n",
              "      <td>71.000000</td>\n",
              "      <td>22.000000</td>\n",
              "      <td>78.000000</td>\n",
              "      <td>32.593184</td>\n",
              "      <td>0.508918</td>\n",
              "      <td>33.0000</td>\n",
              "      <td>0.000000</td>\n",
              "    </tr>\n",
              "    <tr>\n",
              "      <th>75%</th>\n",
              "      <td>374.250000</td>\n",
              "      <td>6.000000</td>\n",
              "      <td>145.000000</td>\n",
              "      <td>85.000000</td>\n",
              "      <td>32.000000</td>\n",
              "      <td>165.000000</td>\n",
              "      <td>37.500736</td>\n",
              "      <td>0.735819</td>\n",
              "      <td>41.0000</td>\n",
              "      <td>1.000000</td>\n",
              "    </tr>\n",
              "    <tr>\n",
              "      <th>max</th>\n",
              "      <td>499.000000</td>\n",
              "      <td>17.000000</td>\n",
              "      <td>199.000000</td>\n",
              "      <td>122.000000</td>\n",
              "      <td>55.000000</td>\n",
              "      <td>378.000000</td>\n",
              "      <td>59.937412</td>\n",
              "      <td>1.413874</td>\n",
              "      <td>73.0000</td>\n",
              "      <td>1.000000</td>\n",
              "    </tr>\n",
              "  </tbody>\n",
              "</table>\n",
              "</div>\n",
              "    <div class=\"colab-df-buttons\">\n",
              "\n",
              "  <div class=\"colab-df-container\">\n",
              "    <button class=\"colab-df-convert\" onclick=\"convertToInteractive('df-3e7b03c2-f10d-4ef2-bae2-055318ad7140')\"\n",
              "            title=\"Convert this dataframe to an interactive table.\"\n",
              "            style=\"display:none;\">\n",
              "\n",
              "  <svg xmlns=\"http://www.w3.org/2000/svg\" height=\"24px\" viewBox=\"0 -960 960 960\">\n",
              "    <path d=\"M120-120v-720h720v720H120Zm60-500h600v-160H180v160Zm220 220h160v-160H400v160Zm0 220h160v-160H400v160ZM180-400h160v-160H180v160Zm440 0h160v-160H620v160ZM180-180h160v-160H180v160Zm440 0h160v-160H620v160Z\"/>\n",
              "  </svg>\n",
              "    </button>\n",
              "\n",
              "  <style>\n",
              "    .colab-df-container {\n",
              "      display:flex;\n",
              "      gap: 12px;\n",
              "    }\n",
              "\n",
              "    .colab-df-convert {\n",
              "      background-color: #E8F0FE;\n",
              "      border: none;\n",
              "      border-radius: 50%;\n",
              "      cursor: pointer;\n",
              "      display: none;\n",
              "      fill: #1967D2;\n",
              "      height: 32px;\n",
              "      padding: 0 0 0 0;\n",
              "      width: 32px;\n",
              "    }\n",
              "\n",
              "    .colab-df-convert:hover {\n",
              "      background-color: #E2EBFA;\n",
              "      box-shadow: 0px 1px 2px rgba(60, 64, 67, 0.3), 0px 1px 3px 1px rgba(60, 64, 67, 0.15);\n",
              "      fill: #174EA6;\n",
              "    }\n",
              "\n",
              "    .colab-df-buttons div {\n",
              "      margin-bottom: 4px;\n",
              "    }\n",
              "\n",
              "    [theme=dark] .colab-df-convert {\n",
              "      background-color: #3B4455;\n",
              "      fill: #D2E3FC;\n",
              "    }\n",
              "\n",
              "    [theme=dark] .colab-df-convert:hover {\n",
              "      background-color: #434B5C;\n",
              "      box-shadow: 0px 1px 3px 1px rgba(0, 0, 0, 0.15);\n",
              "      filter: drop-shadow(0px 1px 2px rgba(0, 0, 0, 0.3));\n",
              "      fill: #FFFFFF;\n",
              "    }\n",
              "  </style>\n",
              "\n",
              "    <script>\n",
              "      const buttonEl =\n",
              "        document.querySelector('#df-3e7b03c2-f10d-4ef2-bae2-055318ad7140 button.colab-df-convert');\n",
              "      buttonEl.style.display =\n",
              "        google.colab.kernel.accessAllowed ? 'block' : 'none';\n",
              "\n",
              "      async function convertToInteractive(key) {\n",
              "        const element = document.querySelector('#df-3e7b03c2-f10d-4ef2-bae2-055318ad7140');\n",
              "        const dataTable =\n",
              "          await google.colab.kernel.invokeFunction('convertToInteractive',\n",
              "                                                    [key], {});\n",
              "        if (!dataTable) return;\n",
              "\n",
              "        const docLinkHtml = 'Like what you see? Visit the ' +\n",
              "          '<a target=\"_blank\" href=https://colab.research.google.com/notebooks/data_table.ipynb>data table notebook</a>'\n",
              "          + ' to learn more about interactive tables.';\n",
              "        element.innerHTML = '';\n",
              "        dataTable['output_type'] = 'display_data';\n",
              "        await google.colab.output.renderOutput(dataTable, element);\n",
              "        const docLink = document.createElement('div');\n",
              "        docLink.innerHTML = docLinkHtml;\n",
              "        element.appendChild(docLink);\n",
              "      }\n",
              "    </script>\n",
              "  </div>\n",
              "\n",
              "\n",
              "<div id=\"df-b2677f77-da6b-4a67-91ca-8409abc29ff0\">\n",
              "  <button class=\"colab-df-quickchart\" onclick=\"quickchart('df-b2677f77-da6b-4a67-91ca-8409abc29ff0')\"\n",
              "            title=\"Suggest charts.\"\n",
              "            style=\"display:none;\">\n",
              "\n",
              "<svg xmlns=\"http://www.w3.org/2000/svg\" height=\"24px\"viewBox=\"0 0 24 24\"\n",
              "     width=\"24px\">\n",
              "    <g>\n",
              "        <path d=\"M19 3H5c-1.1 0-2 .9-2 2v14c0 1.1.9 2 2 2h14c1.1 0 2-.9 2-2V5c0-1.1-.9-2-2-2zM9 17H7v-7h2v7zm4 0h-2V7h2v10zm4 0h-2v-4h2v4z\"/>\n",
              "    </g>\n",
              "</svg>\n",
              "  </button>\n",
              "\n",
              "<style>\n",
              "  .colab-df-quickchart {\n",
              "      --bg-color: #E8F0FE;\n",
              "      --fill-color: #1967D2;\n",
              "      --hover-bg-color: #E2EBFA;\n",
              "      --hover-fill-color: #174EA6;\n",
              "      --disabled-fill-color: #AAA;\n",
              "      --disabled-bg-color: #DDD;\n",
              "  }\n",
              "\n",
              "  [theme=dark] .colab-df-quickchart {\n",
              "      --bg-color: #3B4455;\n",
              "      --fill-color: #D2E3FC;\n",
              "      --hover-bg-color: #434B5C;\n",
              "      --hover-fill-color: #FFFFFF;\n",
              "      --disabled-bg-color: #3B4455;\n",
              "      --disabled-fill-color: #666;\n",
              "  }\n",
              "\n",
              "  .colab-df-quickchart {\n",
              "    background-color: var(--bg-color);\n",
              "    border: none;\n",
              "    border-radius: 50%;\n",
              "    cursor: pointer;\n",
              "    display: none;\n",
              "    fill: var(--fill-color);\n",
              "    height: 32px;\n",
              "    padding: 0;\n",
              "    width: 32px;\n",
              "  }\n",
              "\n",
              "  .colab-df-quickchart:hover {\n",
              "    background-color: var(--hover-bg-color);\n",
              "    box-shadow: 0 1px 2px rgba(60, 64, 67, 0.3), 0 1px 3px 1px rgba(60, 64, 67, 0.15);\n",
              "    fill: var(--button-hover-fill-color);\n",
              "  }\n",
              "\n",
              "  .colab-df-quickchart-complete:disabled,\n",
              "  .colab-df-quickchart-complete:disabled:hover {\n",
              "    background-color: var(--disabled-bg-color);\n",
              "    fill: var(--disabled-fill-color);\n",
              "    box-shadow: none;\n",
              "  }\n",
              "\n",
              "  .colab-df-spinner {\n",
              "    border: 2px solid var(--fill-color);\n",
              "    border-color: transparent;\n",
              "    border-bottom-color: var(--fill-color);\n",
              "    animation:\n",
              "      spin 1s steps(1) infinite;\n",
              "  }\n",
              "\n",
              "  @keyframes spin {\n",
              "    0% {\n",
              "      border-color: transparent;\n",
              "      border-bottom-color: var(--fill-color);\n",
              "      border-left-color: var(--fill-color);\n",
              "    }\n",
              "    20% {\n",
              "      border-color: transparent;\n",
              "      border-left-color: var(--fill-color);\n",
              "      border-top-color: var(--fill-color);\n",
              "    }\n",
              "    30% {\n",
              "      border-color: transparent;\n",
              "      border-left-color: var(--fill-color);\n",
              "      border-top-color: var(--fill-color);\n",
              "      border-right-color: var(--fill-color);\n",
              "    }\n",
              "    40% {\n",
              "      border-color: transparent;\n",
              "      border-right-color: var(--fill-color);\n",
              "      border-top-color: var(--fill-color);\n",
              "    }\n",
              "    60% {\n",
              "      border-color: transparent;\n",
              "      border-right-color: var(--fill-color);\n",
              "    }\n",
              "    80% {\n",
              "      border-color: transparent;\n",
              "      border-right-color: var(--fill-color);\n",
              "      border-bottom-color: var(--fill-color);\n",
              "    }\n",
              "    90% {\n",
              "      border-color: transparent;\n",
              "      border-bottom-color: var(--fill-color);\n",
              "    }\n",
              "  }\n",
              "</style>\n",
              "\n",
              "  <script>\n",
              "    async function quickchart(key) {\n",
              "      const quickchartButtonEl =\n",
              "        document.querySelector('#' + key + ' button');\n",
              "      quickchartButtonEl.disabled = true;  // To prevent multiple clicks.\n",
              "      quickchartButtonEl.classList.add('colab-df-spinner');\n",
              "      try {\n",
              "        const charts = await google.colab.kernel.invokeFunction(\n",
              "            'suggestCharts', [key], {});\n",
              "      } catch (error) {\n",
              "        console.error('Error during call to suggestCharts:', error);\n",
              "      }\n",
              "      quickchartButtonEl.classList.remove('colab-df-spinner');\n",
              "      quickchartButtonEl.classList.add('colab-df-quickchart-complete');\n",
              "    }\n",
              "    (() => {\n",
              "      let quickchartButtonEl =\n",
              "        document.querySelector('#df-b2677f77-da6b-4a67-91ca-8409abc29ff0 button');\n",
              "      quickchartButtonEl.style.display =\n",
              "        google.colab.kernel.accessAllowed ? 'block' : 'none';\n",
              "    })();\n",
              "  </script>\n",
              "</div>\n",
              "    </div>\n",
              "  </div>\n"
            ]
          },
          "metadata": {},
          "execution_count": 730
        }
      ]
    },
    {
      "cell_type": "markdown",
      "source": [
        "In the code block below, we have replaced the vaules of SkinThickness which were 0 in the original dataset by their mean as skin thickness cannot be 0."
      ],
      "metadata": {
        "id": "OUzBmQmjV7Vv"
      }
    },
    {
      "cell_type": "code",
      "source": [
        "column=gdf['SkinThickness']\n",
        "column.replace(to_replace = 0, value = column.mean(), inplace=True)\n",
        "gdf['SkinThickness']"
      ],
      "metadata": {
        "id": "aLV2gPwBk-oc",
        "colab": {
          "base_uri": "https://localhost:8080/"
        },
        "outputId": "d4e91d4a-9ab4-4f3b-c0ff-e15b764aa691"
      },
      "execution_count": 731,
      "outputs": [
        {
          "output_type": "execute_result",
          "data": {
            "text/plain": [
              "0      19.0\n",
              "1       6.0\n",
              "2      24.0\n",
              "3      35.0\n",
              "4      31.0\n",
              "       ... \n",
              "495    46.0\n",
              "496    28.0\n",
              "497    38.0\n",
              "498    49.0\n",
              "499    22.0\n",
              "Name: SkinThickness, Length: 500, dtype: float64"
            ]
          },
          "metadata": {},
          "execution_count": 731
        }
      ]
    },
    {
      "cell_type": "code",
      "source": [
        "dataset=(gdf-gdf.min())/(gdf.max()-gdf.min())\n",
        "X=dataset.drop(['Outcome', 'Unnamed: 0'], axis=1)\n",
        "y=dataset.Outcome\n",
        "dataset2=dataset.drop(['Unnamed: 0'], axis=1) #dataset without the 'Unnamed: 0' column"
      ],
      "metadata": {
        "id": "4doeqpJOlByP"
      },
      "execution_count": 732,
      "outputs": []
    },
    {
      "cell_type": "code",
      "source": [
        "#correlation visualization\n",
        "dataplot = sns.heatmap(dataset2.corr(), cmap=\"YlGnBu\", annot=True)\n",
        "plt.show()\n",
        "dataset2"
      ],
      "metadata": {
        "id": "AT-fULIgYIZ3",
        "colab": {
          "base_uri": "https://localhost:8080/",
          "height": 1000
        },
        "outputId": "47f06785-6128-4eab-ae9b-0c381ac78abb"
      },
      "execution_count": 733,
      "outputs": [
        {
          "output_type": "display_data",
          "data": {
            "text/plain": [
              "<Figure size 640x480 with 2 Axes>"
            ],
            "image/png": "[encoded data removed]"
          },
          "metadata": {}
        },
        {
          "output_type": "execute_result",
          "data": {
            "text/plain": [
              "     Pregnancies   Glucose  BloodPressure  SkinThickness   Insulin       BMI  \\\n",
              "0       0.411765  0.729730           0.74       0.333333  0.026455  0.560510   \n",
              "1       0.000000  0.740541           0.22       0.092593  0.277778  0.310449   \n",
              "2       0.176471  0.837838           0.35       0.425926  0.634921  0.455219   \n",
              "3       0.235294  0.389189           0.39       0.629630  0.000000  0.448972   \n",
              "4       0.352941  0.329730           0.40       0.555556  0.203704  0.541470   \n",
              "..           ...       ...            ...            ...       ...       ...   \n",
              "495     0.000000  0.470270           0.65       0.833333  0.785714  0.567543   \n",
              "496     0.235294  0.594595           0.50       0.500000  0.071429  0.462390   \n",
              "497     0.235294  0.902703           0.13       0.685185  0.658730  0.494231   \n",
              "498     0.235294  0.745946           0.59       0.888889  0.436508  0.525994   \n",
              "499     0.058824  0.513514           0.33       0.388889  0.100529  0.591608   \n",
              "\n",
              "     DiabetesPedigreeFunction       Age  Outcome  \n",
              "0                    0.361809  0.365385      1.0  \n",
              "1                    0.288919  0.115385      1.0  \n",
              "2                    0.346862  0.288462      0.0  \n",
              "3                    0.335594  0.346154      0.0  \n",
              "4                    0.075407  0.000000      0.0  \n",
              "..                        ...       ...      ...  \n",
              "495                  0.257074  0.000000      0.0  \n",
              "496                  0.413268  0.557692      0.0  \n",
              "497                  0.267186  0.269231      1.0  \n",
              "498                  0.556111  0.461538      1.0  \n",
              "499                  0.445205  0.000000      0.0  \n",
              "\n",
              "[500 rows x 9 columns]"
            ],
            "text/html": [
              "\n",
              "  <div id=\"df-ff6c752c-f0d1-44b9-a114-86c3e44fd765\" class=\"colab-df-container\">\n",
              "    <div>\n",
              "<style scoped>\n",
              "    .dataframe tbody tr th:only-of-type {\n",
              "        vertical-align: middle;\n",
              "    }\n",
              "\n",
              "    .dataframe tbody tr th {\n",
              "        vertical-align: top;\n",
              "    }\n",
              "\n",
              "    .dataframe thead th {\n",
              "        text-align: right;\n",
              "    }\n",
              "</style>\n",
              "<table border=\"1\" class=\"dataframe\">\n",
              "  <thead>\n",
              "    <tr style=\"text-align: right;\">\n",
              "      <th></th>\n",
              "      <th>Pregnancies</th>\n",
              "      <th>Glucose</th>\n",
              "      <th>BloodPressure</th>\n",
              "      <th>SkinThickness</th>\n",
              "      <th>Insulin</th>\n",
              "      <th>BMI</th>\n",
              "      <th>DiabetesPedigreeFunction</th>\n",
              "      <th>Age</th>\n",
              "      <th>Outcome</th>\n",
              "    </tr>\n",
              "  </thead>\n",
              "  <tbody>\n",
              "    <tr>\n",
              "      <th>0</th>\n",
              "      <td>0.411765</td>\n",
              "      <td>0.729730</td>\n",
              "      <td>0.74</td>\n",
              "      <td>0.333333</td>\n",
              "      <td>0.026455</td>\n",
              "      <td>0.560510</td>\n",
              "      <td>0.361809</td>\n",
              "      <td>0.365385</td>\n",
              "      <td>1.0</td>\n",
              "    </tr>\n",
              "    <tr>\n",
              "      <th>1</th>\n",
              "      <td>0.000000</td>\n",
              "      <td>0.740541</td>\n",
              "      <td>0.22</td>\n",
              "      <td>0.092593</td>\n",
              "      <td>0.277778</td>\n",
              "      <td>0.310449</td>\n",
              "      <td>0.288919</td>\n",
              "      <td>0.115385</td>\n",
              "      <td>1.0</td>\n",
              "    </tr>\n",
              "    <tr>\n",
              "      <th>2</th>\n",
              "      <td>0.176471</td>\n",
              "      <td>0.837838</td>\n",
              "      <td>0.35</td>\n",
              "      <td>0.425926</td>\n",
              "      <td>0.634921</td>\n",
              "      <td>0.455219</td>\n",
              "      <td>0.346862</td>\n",
              "      <td>0.288462</td>\n",
              "      <td>0.0</td>\n",
              "    </tr>\n",
              "    <tr>\n",
              "      <th>3</th>\n",
              "      <td>0.235294</td>\n",
              "      <td>0.389189</td>\n",
              "      <td>0.39</td>\n",
              "      <td>0.629630</td>\n",
              "      <td>0.000000</td>\n",
              "      <td>0.448972</td>\n",
              "      <td>0.335594</td>\n",
              "      <td>0.346154</td>\n",
              "      <td>0.0</td>\n",
              "    </tr>\n",
              "    <tr>\n",
              "      <th>4</th>\n",
              "      <td>0.352941</td>\n",
              "      <td>0.329730</td>\n",
              "      <td>0.40</td>\n",
              "      <td>0.555556</td>\n",
              "      <td>0.203704</td>\n",
              "      <td>0.541470</td>\n",
              "      <td>0.075407</td>\n",
              "      <td>0.000000</td>\n",
              "      <td>0.0</td>\n",
              "    </tr>\n",
              "    <tr>\n",
              "      <th>...</th>\n",
              "      <td>...</td>\n",
              "      <td>...</td>\n",
              "      <td>...</td>\n",
              "      <td>...</td>\n",
              "      <td>...</td>\n",
              "      <td>...</td>\n",
              "      <td>...</td>\n",
              "      <td>...</td>\n",
              "      <td>...</td>\n",
              "    </tr>\n",
              "    <tr>\n",
              "      <th>495</th>\n",
              "      <td>0.000000</td>\n",
              "      <td>0.470270</td>\n",
              "      <td>0.65</td>\n",
              "      <td>0.833333</td>\n",
              "      <td>0.785714</td>\n",
              "      <td>0.567543</td>\n",
              "      <td>0.257074</td>\n",
              "      <td>0.000000</td>\n",
              "      <td>0.0</td>\n",
              "    </tr>\n",
              "    <tr>\n",
              "      <th>496</th>\n",
              "      <td>0.235294</td>\n",
              "      <td>0.594595</td>\n",
              "      <td>0.50</td>\n",
              "      <td>0.500000</td>\n",
              "      <td>0.071429</td>\n",
              "      <td>0.462390</td>\n",
              "      <td>0.413268</td>\n",
              "      <td>0.557692</td>\n",
              "      <td>0.0</td>\n",
              "    </tr>\n",
              "    <tr>\n",
              "      <th>497</th>\n",
              "      <td>0.235294</td>\n",
              "      <td>0.902703</td>\n",
              "      <td>0.13</td>\n",
              "      <td>0.685185</td>\n",
              "      <td>0.658730</td>\n",
              "      <td>0.494231</td>\n",
              "      <td>0.267186</td>\n",
              "      <td>0.269231</td>\n",
              "      <td>1.0</td>\n",
              "    </tr>\n",
              "    <tr>\n",
              "      <th>498</th>\n",
              "      <td>0.235294</td>\n",
              "      <td>0.745946</td>\n",
              "      <td>0.59</td>\n",
              "      <td>0.888889</td>\n",
              "      <td>0.436508</td>\n",
              "      <td>0.525994</td>\n",
              "      <td>0.556111</td>\n",
              "      <td>0.461538</td>\n",
              "      <td>1.0</td>\n",
              "    </tr>\n",
              "    <tr>\n",
              "      <th>499</th>\n",
              "      <td>0.058824</td>\n",
              "      <td>0.513514</td>\n",
              "      <td>0.33</td>\n",
              "      <td>0.388889</td>\n",
              "      <td>0.100529</td>\n",
              "      <td>0.591608</td>\n",
              "      <td>0.445205</td>\n",
              "      <td>0.000000</td>\n",
              "      <td>0.0</td>\n",
              "    </tr>\n",
              "  </tbody>\n",
              "</table>\n",
              "<p>500 rows × 9 columns</p>\n",
              "</div>\n",
              "    <div class=\"colab-df-buttons\">\n",
              "\n",
              "  <div class=\"colab-df-container\">\n",
              "    <button class=\"colab-df-convert\" onclick=\"convertToInteractive('df-ff6c752c-f0d1-44b9-a114-86c3e44fd765')\"\n",
              "            title=\"Convert this dataframe to an interactive table.\"\n",
              "            style=\"display:none;\">\n",
              "\n",
              "  <svg xmlns=\"http://www.w3.org/2000/svg\" height=\"24px\" viewBox=\"0 -960 960 960\">\n",
              "    <path d=\"M120-120v-720h720v720H120Zm60-500h600v-160H180v160Zm220 220h160v-160H400v160Zm0 220h160v-160H400v160ZM180-400h160v-160H180v160Zm440 0h160v-160H620v160ZM180-180h160v-160H180v160Zm440 0h160v-160H620v160Z\"/>\n",
              "  </svg>\n",
              "    </button>\n",
              "\n",
              "  <style>\n",
              "    .colab-df-container {\n",
              "      display:flex;\n",
              "      gap: 12px;\n",
              "    }\n",
              "\n",
              "    .colab-df-convert {\n",
              "      background-color: #E8F0FE;\n",
              "      border: none;\n",
              "      border-radius: 50%;\n",
              "      cursor: pointer;\n",
              "      display: none;\n",
              "      fill: #1967D2;\n",
              "      height: 32px;\n",
              "      padding: 0 0 0 0;\n",
              "      width: 32px;\n",
              "    }\n",
              "\n",
              "    .colab-df-convert:hover {\n",
              "      background-color: #E2EBFA;\n",
              "      box-shadow: 0px 1px 2px rgba(60, 64, 67, 0.3), 0px 1px 3px 1px rgba(60, 64, 67, 0.15);\n",
              "      fill: #174EA6;\n",
              "    }\n",
              "\n",
              "    .colab-df-buttons div {\n",
              "      margin-bottom: 4px;\n",
              "    }\n",
              "\n",
              "    [theme=dark] .colab-df-convert {\n",
              "      background-color: #3B4455;\n",
              "      fill: #D2E3FC;\n",
              "    }\n",
              "\n",
              "    [theme=dark] .colab-df-convert:hover {\n",
              "      background-color: #434B5C;\n",
              "      box-shadow: 0px 1px 3px 1px rgba(0, 0, 0, 0.15);\n",
              "      filter: drop-shadow(0px 1px 2px rgba(0, 0, 0, 0.3));\n",
              "      fill: #FFFFFF;\n",
              "    }\n",
              "  </style>\n",
              "\n",
              "    <script>\n",
              "      const buttonEl =\n",
              "        document.querySelector('#df-ff6c752c-f0d1-44b9-a114-86c3e44fd765 button.colab-df-convert');\n",
              "      buttonEl.style.display =\n",
              "        google.colab.kernel.accessAllowed ? 'block' : 'none';\n",
              "\n",
              "      async function convertToInteractive(key) {\n",
              "        const element = document.querySelector('#df-ff6c752c-f0d1-44b9-a114-86c3e44fd765');\n",
              "        const dataTable =\n",
              "          await google.colab.kernel.invokeFunction('convertToInteractive',\n",
              "                                                    [key], {});\n",
              "        if (!dataTable) return;\n",
              "\n",
              "        const docLinkHtml = 'Like what you see? Visit the ' +\n",
              "          '<a target=\"_blank\" href=https://colab.research.google.com/notebooks/data_table.ipynb>data table notebook</a>'\n",
              "          + ' to learn more about interactive tables.';\n",
              "        element.innerHTML = '';\n",
              "        dataTable['output_type'] = 'display_data';\n",
              "        await google.colab.output.renderOutput(dataTable, element);\n",
              "        const docLink = document.createElement('div');\n",
              "        docLink.innerHTML = docLinkHtml;\n",
              "        element.appendChild(docLink);\n",
              "      }\n",
              "    </script>\n",
              "  </div>\n",
              "\n",
              "\n",
              "<div id=\"df-0979d392-86e6-4652-b404-fdf1a7a41ee6\">\n",
              "  <button class=\"colab-df-quickchart\" onclick=\"quickchart('df-0979d392-86e6-4652-b404-fdf1a7a41ee6')\"\n",
              "            title=\"Suggest charts.\"\n",
              "            style=\"display:none;\">\n",
              "\n",
              "<svg xmlns=\"http://www.w3.org/2000/svg\" height=\"24px\"viewBox=\"0 0 24 24\"\n",
              "     width=\"24px\">\n",
              "    <g>\n",
              "        <path d=\"M19 3H5c-1.1 0-2 .9-2 2v14c0 1.1.9 2 2 2h14c1.1 0 2-.9 2-2V5c0-1.1-.9-2-2-2zM9 17H7v-7h2v7zm4 0h-2V7h2v10zm4 0h-2v-4h2v4z\"/>\n",
              "    </g>\n",
              "</svg>\n",
              "  </button>\n",
              "\n",
              "<style>\n",
              "  .colab-df-quickchart {\n",
              "      --bg-color: #E8F0FE;\n",
              "      --fill-color: #1967D2;\n",
              "      --hover-bg-color: #E2EBFA;\n",
              "      --hover-fill-color: #174EA6;\n",
              "      --disabled-fill-color: #AAA;\n",
              "      --disabled-bg-color: #DDD;\n",
              "  }\n",
              "\n",
              "  [theme=dark] .colab-df-quickchart {\n",
              "      --bg-color: #3B4455;\n",
              "      --fill-color: #D2E3FC;\n",
              "      --hover-bg-color: #434B5C;\n",
              "      --hover-fill-color: #FFFFFF;\n",
              "      --disabled-bg-color: #3B4455;\n",
              "      --disabled-fill-color: #666;\n",
              "  }\n",
              "\n",
              "  .colab-df-quickchart {\n",
              "    background-color: var(--bg-color);\n",
              "    border: none;\n",
              "    border-radius: 50%;\n",
              "    cursor: pointer;\n",
              "    display: none;\n",
              "    fill: var(--fill-color);\n",
              "    height: 32px;\n",
              "    padding: 0;\n",
              "    width: 32px;\n",
              "  }\n",
              "\n",
              "  .colab-df-quickchart:hover {\n",
              "    background-color: var(--hover-bg-color);\n",
              "    box-shadow: 0 1px 2px rgba(60, 64, 67, 0.3), 0 1px 3px 1px rgba(60, 64, 67, 0.15);\n",
              "    fill: var(--button-hover-fill-color);\n",
              "  }\n",
              "\n",
              "  .colab-df-quickchart-complete:disabled,\n",
              "  .colab-df-quickchart-complete:disabled:hover {\n",
              "    background-color: var(--disabled-bg-color);\n",
              "    fill: var(--disabled-fill-color);\n",
              "    box-shadow: none;\n",
              "  }\n",
              "\n",
              "  .colab-df-spinner {\n",
              "    border: 2px solid var(--fill-color);\n",
              "    border-color: transparent;\n",
              "    border-bottom-color: var(--fill-color);\n",
              "    animation:\n",
              "      spin 1s steps(1) infinite;\n",
              "  }\n",
              "\n",
              "  @keyframes spin {\n",
              "    0% {\n",
              "      border-color: transparent;\n",
              "      border-bottom-color: var(--fill-color);\n",
              "      border-left-color: var(--fill-color);\n",
              "    }\n",
              "    20% {\n",
              "      border-color: transparent;\n",
              "      border-left-color: var(--fill-color);\n",
              "      border-top-color: var(--fill-color);\n",
              "    }\n",
              "    30% {\n",
              "      border-color: transparent;\n",
              "      border-left-color: var(--fill-color);\n",
              "      border-top-color: var(--fill-color);\n",
              "      border-right-color: var(--fill-color);\n",
              "    }\n",
              "    40% {\n",
              "      border-color: transparent;\n",
              "      border-right-color: var(--fill-color);\n",
              "      border-top-color: var(--fill-color);\n",
              "    }\n",
              "    60% {\n",
              "      border-color: transparent;\n",
              "      border-right-color: var(--fill-color);\n",
              "    }\n",
              "    80% {\n",
              "      border-color: transparent;\n",
              "      border-right-color: var(--fill-color);\n",
              "      border-bottom-color: var(--fill-color);\n",
              "    }\n",
              "    90% {\n",
              "      border-color: transparent;\n",
              "      border-bottom-color: var(--fill-color);\n",
              "    }\n",
              "  }\n",
              "</style>\n",
              "\n",
              "  <script>\n",
              "    async function quickchart(key) {\n",
              "      const quickchartButtonEl =\n",
              "        document.querySelector('#' + key + ' button');\n",
              "      quickchartButtonEl.disabled = true;  // To prevent multiple clicks.\n",
              "      quickchartButtonEl.classList.add('colab-df-spinner');\n",
              "      try {\n",
              "        const charts = await google.colab.kernel.invokeFunction(\n",
              "            'suggestCharts', [key], {});\n",
              "      } catch (error) {\n",
              "        console.error('Error during call to suggestCharts:', error);\n",
              "      }\n",
              "      quickchartButtonEl.classList.remove('colab-df-spinner');\n",
              "      quickchartButtonEl.classList.add('colab-df-quickchart-complete');\n",
              "    }\n",
              "    (() => {\n",
              "      let quickchartButtonEl =\n",
              "        document.querySelector('#df-0979d392-86e6-4652-b404-fdf1a7a41ee6 button');\n",
              "      quickchartButtonEl.style.display =\n",
              "        google.colab.kernel.accessAllowed ? 'block' : 'none';\n",
              "    })();\n",
              "  </script>\n",
              "</div>\n",
              "    </div>\n",
              "  </div>\n"
            ]
          },
          "metadata": {},
          "execution_count": 733
        }
      ]
    },
    {
      "cell_type": "code",
      "source": [
        "gdf['Outcome'].value_counts()"
      ],
      "metadata": {
        "colab": {
          "base_uri": "https://localhost:8080/"
        },
        "id": "1FrnrjeiTU9w",
        "outputId": "fd8c8b6a-d04a-4980-ee52-d541ebb10649"
      },
      "execution_count": 734,
      "outputs": [
        {
          "output_type": "execute_result",
          "data": {
            "text/plain": [
              "0    335\n",
              "1    165\n",
              "Name: Outcome, dtype: int64"
            ]
          },
          "metadata": {},
          "execution_count": 734
        }
      ]
    },
    {
      "cell_type": "markdown",
      "source": [
        "As we can see from the preprocessed data, the data samples for 1 are almost twice as less than the samples for 0. Hence, this irregularity could lower accuracy of the models."
      ],
      "metadata": {
        "id": "jvjQjikNVXHd"
      }
    },
    {
      "cell_type": "code",
      "source": [
        "X_train,X_test,y_train,y_test=train_test_split(X, y,test_size=0.2,random_state=9)"
      ],
      "metadata": {
        "id": "JWmYYHf8ebvf"
      },
      "execution_count": 735,
      "outputs": []
    },
    {
      "cell_type": "markdown",
      "source": [
        "# ***3. Comparison of Stochastic Gradient Descent and Batch Gradient Descent using Linear Regression***\n",
        "\n",
        "## **_Stochastic Gradient Descent_**"
      ],
      "metadata": {
        "id": "y81SQxOrRso5"
      }
    },
    {
      "cell_type": "code",
      "source": [
        "Y=np.array(dataset.iloc[0:,9:])\n",
        "\n",
        "df = dataset.drop('Outcome', axis=1)\n",
        "\n",
        "#scaling the data\n",
        "dataset = (df-df.min())/(df.max()-df.min())\n",
        "\n",
        "X=dataset.iloc[0:,1:9]\n",
        "\n",
        "#adding bias column\n",
        "X['D']=1\n",
        "X=np.array(X)\n",
        "\n",
        "#applying train_test_split\n",
        "from sklearn.model_selection import train_test_split\n",
        "x_train,x_test,y_train,y_test=train_test_split(X, Y,train_size=0.8, test_size=0.2,random_state=9)\n",
        "\n",
        "w=np.zeros(9) #initialize the weight vector\n",
        "lr=0.001 #lr=learning rate\n",
        "iter=1000\n",
        "N=len(X) #N= total number of samples\n",
        "n=len(x_train) #n = number of samples in the training dataset\n",
        "sgd_cost_list=[] #list recording the error after each iteration\n",
        "sgd_epoch_list=[] #list recording the iteration count\n",
        "\n",
        "#define cost function\n",
        "def costfn(X,Y,w):\n",
        "  error=0\n",
        "  for i in range(n):\n",
        "    x=X[i]\n",
        "    y=Y[i]\n",
        "    h=(w.T).dot(x) #formulating the hypothesis\n",
        "    error+=(h-y)**2\n",
        "  error = (1/n)*error #computing the error\n",
        "  sgd_cost_list.append(error) #adding error value to the cost list\n",
        "\n",
        "#Stochastic descent\n",
        "def stochastic_des(X,Y,w,lr,iter,n):\n",
        "  for m in range(iter):\n",
        "    sum=np.zeros(9)\n",
        "    j=random.randint(0,n-1) #picking a random sample from the dataset\n",
        "    x=X[j]\n",
        "    y=Y[j]\n",
        "    h=(w.T).dot(x) #computing hypothesis\n",
        "    sum=(h-y)*x #computing derivative of cost function\n",
        "    w=w-(lr*sum)\n",
        "    costfn(X,Y,w)\n",
        "    sgd_epoch_list.append(m)\n",
        "  return w\n",
        "\n",
        "w_new=stochastic_des(x_train, y_train, w,lr,iter,n)\n",
        "\n",
        "test=len(y_test)\n",
        "#y_pred=np.ones(test)\n",
        "y_p=np.arange(test)\n",
        "y_pred=y_p.reshape(test,1)\n",
        "\n",
        "def Linear_Regression(x_test,test):\n",
        "  for i in range(test):\n",
        "    y_pred[i] = np.round(abs((w_new.T).dot(x_test[i])))\n",
        "  return y_pred\n",
        "\n",
        "y_pred=Linear_Regression(x_test,test)\n",
        "mse= mean_squared_error(y_test,y_pred)\n",
        "def accuracy(y_pred,y_test):\n",
        "    return np.sum(y_pred==y_test)/len(y_test)\n",
        "final_accuracy=accuracy(y_pred,y_test)\n",
        "print(f\"mse:\", mse)\n",
        "print(f\"Accuracy : {final_accuracy: .2f}\")\n",
        "print(f\"Weights:\", w_new)"
      ],
      "metadata": {
        "id": "tCDbDv9ekw37",
        "colab": {
          "base_uri": "https://localhost:8080/"
        },
        "outputId": "19bba032-e537-4b7c-bffc-b212bcbd820b"
      },
      "execution_count": 736,
      "outputs": [
        {
          "output_type": "stream",
          "name": "stdout",
          "text": [
            "mse: 0.36\n",
            "Accuracy :  0.64\n",
            "Weights: [0.04293597 0.09538799 0.0524842  0.05182083 0.04422385 0.05847898\n",
            " 0.05159613 0.04094278 0.11307163]\n"
          ]
        }
      ]
    },
    {
      "cell_type": "markdown",
      "source": [
        "## **_Batch Gradient Descent_**"
      ],
      "metadata": {
        "id": "HqIC34nWR-n7"
      }
    },
    {
      "cell_type": "code",
      "source": [
        "w=np.zeros(9) #initialize the weight vector\n",
        "lr=0.001 #lr=learning rate\n",
        "iter=1000\n",
        "N=len(X) #N= total number of samples\n",
        "n=len(x_train) #n = number of samples in the training dataset\n",
        "\n",
        "bgd_cost_list=[] #list recording the error after each iteration\n",
        "bgd_epoch_list=[] #list recording the iteration count"
      ],
      "metadata": {
        "id": "-hA5FysjSBzj"
      },
      "execution_count": 737,
      "outputs": []
    },
    {
      "cell_type": "code",
      "source": [
        "def costfn(X,Y,w):\n",
        "  error=0\n",
        "  for i in range(n):\n",
        "     x=X[i]\n",
        "     y=Y[i]\n",
        "     h=(w.T).dot(x) #formulating the hypothesis\n",
        "     error += (h-y)**2\n",
        "  error=(1/n)*error #computing the error\n",
        "  bgd_cost_list.append(error) #adding error value to the cost list\n",
        "  return error\n",
        "\n",
        "#Gradient descent\n",
        "def grad_des(X,Y,w,lr,iter,n):\n",
        "  for m in range(iter):\n",
        "    sum=np.zeros(9)\n",
        "    for i in range(n):\n",
        "      x=X[i]\n",
        "      y=Y[i]\n",
        "      h=(w.T).dot(x) #formulating the hypothesis\n",
        "      sum+=(h-y)*x #computing derivative of cost function\n",
        "\n",
        "    w=w-(lr*sum)\n",
        "    costfn(x_train,y_train,w)\n",
        "    bgd_epoch_list.append(m)\n",
        "  return w\n",
        "\n",
        "w_new=grad_des(x_train, y_train, w,lr,iter,n)\n"
      ],
      "metadata": {
        "id": "jmH1jxwRlmf_"
      },
      "execution_count": 738,
      "outputs": []
    },
    {
      "cell_type": "code",
      "source": [
        "test=len(y_test)\n",
        "y_p=np.arange(test)\n",
        "y_pred=y_p.reshape(test,1)\n",
        "\n",
        "def Linear_Regression(x_test,test):\n",
        "  for i in range(test):\n",
        "    y_pred[i] = np.round(abs((w_new.T).dot(x_test[i])))\n",
        "  return y_pred\n",
        "\n",
        "y_pred=Linear_Regression(x_test,test)\n",
        "mse= mean_squared_error(y_test,y_pred)\n",
        "def accuracy(y_pred,y_test):\n",
        "    return np.sum(y_pred==y_test)/len(y_test)\n",
        "final_accuracy=accuracy(y_pred,y_test)\n",
        "\n",
        "print(f\"mse:\", mse)\n",
        "print(f\"Accuracy : {final_accuracy: .2f}\")\n",
        "print(f\"Weights:\", w_new)"
      ],
      "metadata": {
        "id": "nvMJxJOwlpFs",
        "colab": {
          "base_uri": "https://localhost:8080/"
        },
        "outputId": "f88f6d33-7d14-4f71-f38f-0e4bbd79e1f3"
      },
      "execution_count": 739,
      "outputs": [
        {
          "output_type": "stream",
          "name": "stdout",
          "text": [
            "mse: 0.28\n",
            "Accuracy :  0.72\n",
            "Weights: [ 0.53361169  0.9989401  -0.29022008  0.20614123 -0.10371824  0.38984752\n",
            "  0.15398813 -0.12610462 -0.47588348]\n"
          ]
        }
      ]
    },
    {
      "cell_type": "markdown",
      "source": [
        "## **_Insights drawn (plots, markdown explanations)_**"
      ],
      "metadata": {
        "id": "8g7NxS5sSCRv"
      }
    },
    {
      "cell_type": "code",
      "source": [
        "plt.title(\"Batch gradient descent plot\")\n",
        "plt.xlabel(\"epoch\")\n",
        "plt.ylabel(\"error\")\n",
        "plt.plot(bgd_epoch_list,bgd_cost_list)"
      ],
      "metadata": {
        "id": "Pw63z3amSSo_",
        "colab": {
          "base_uri": "https://localhost:8080/",
          "height": 490
        },
        "outputId": "045b1cf9-47be-4962-8a53-5b0b750e4bf4"
      },
      "execution_count": 740,
      "outputs": [
        {
          "output_type": "execute_result",
          "data": {
            "text/plain": [
              "[<matplotlib.lines.Line2D at 0x78fe0dc21ed0>]"
            ]
          },
          "metadata": {},
          "execution_count": 740
        },
        {
          "output_type": "display_data",
          "data": {
            "text/plain": [
              "<Figure size 640x480 with 1 Axes>"
            ],
            "image/png": "[encoded data removed]"
          },
          "metadata": {}
        }
      ]
    },
    {
      "cell_type": "code",
      "source": [
        "plt.title(\"Stochastic gradient descent plot\")\n",
        "plt.xlabel(\"epoch\")\n",
        "plt.ylabel(\"error\")\n",
        "plt.plot(sgd_epoch_list,sgd_cost_list)"
      ],
      "metadata": {
        "colab": {
          "base_uri": "https://localhost:8080/",
          "height": 490
        },
        "id": "KehRACevCGXE",
        "outputId": "c9636c51-ea3b-42a2-9bf7-1cc456d9d17d"
      },
      "execution_count": 741,
      "outputs": [
        {
          "output_type": "execute_result",
          "data": {
            "text/plain": [
              "[<matplotlib.lines.Line2D at 0x78fe0dc41c90>]"
            ]
          },
          "metadata": {},
          "execution_count": 741
        },
        {
          "output_type": "display_data",
          "data": {
            "text/plain": [
              "<Figure size 640x480 with 1 Axes>"
            ],
            "image/png": "[encoded data removed]"
          },
          "metadata": {}
        }
      ]
    },
    {
      "cell_type": "markdown",
      "source": [
        "Stochastic Gradient Descent has lesser accuracy then Batch Gradient Descent. This is because Batch Gradient Descent updates the weights by considering the entire batch every iteration. On the other hand, Stochastic Grasient Descent picks a training sample at random in each iteration in order to update the weights. As a result, Batch gradient descent systematically\n",
        "reduces error while stochastic gradient descent takes a more random approach.\n",
        "\n",
        "---\n",
        "\n"
      ],
      "metadata": {
        "id": "CPVQwLarBcJY"
      }
    },
    {
      "cell_type": "markdown",
      "source": [
        "# **_4. Comparison of Lasso and Ridge Regression using Polynomial Regression_**\n",
        "\n",
        "## **_Lasso Regression_**"
      ],
      "metadata": {
        "id": "2p-mPVFCSe9V"
      }
    },
    {
      "cell_type": "code",
      "execution_count": 744,
      "metadata": {
        "id": "BBGotr9J9O6b"
      },
      "outputs": [],
      "source": [
        "class LassoReg():\n",
        "\n",
        "    # initializing the hyperparameters\n",
        "    def __init__(self, lr, iters, Lambda ,degree):\n",
        "        self.lr = lr\n",
        "        self.iters = iters\n",
        "        self.Lambda = Lambda\n",
        "        self.degree = degree\n",
        "\n",
        "    def generate_polynomial_features(X, degree):\n",
        "      #generating a polynomial in the form x+x^2+.....\n",
        "      X_poly = np.zeros((X.shape[0], degree))\n",
        "      for i in range(1, degree + 1):\n",
        "        X_poly[:, i - 1] = X ** i\n",
        "        return X_poly\n",
        "\n",
        "    def fit(self, X_poly, y):\n",
        "      #N---> no of data points = no of rows\n",
        "      #features---> no of input features = no of coloumn\n",
        "      self.N,self.features = X_poly.shape\n",
        "      #W = weights\n",
        "      #B = bias\n",
        "      self.W = np.zeros(self.features)\n",
        "      self.B = 0\n",
        "      self.X_poly = X_poly\n",
        "      self.y = y\n",
        "      # Implementing Gradient Descent algorithm for Optimization\n",
        "      for i in range(self.iters):\n",
        "        self.updateWeights()\n",
        "\n",
        "      #function  updating the value of weights and bias  for each value of x\n",
        "    def updateWeights(self):\n",
        "      y_pred = self.predict(self.X_poly)\n",
        "      dW = np.zeros(self.features)\n",
        "      # gradient loop for weights\n",
        "      for i in range(self.features):\n",
        "        if self.W[i] > 0:\n",
        "            dW[i] = (-(2 * (self.X_poly[:, i]).dot(self.y - y_pred)) + self.Lambda) / self.N\n",
        "        else:\n",
        "            dW[i] = (-(2 * (self.X_poly[:, i]).dot(self.y - y_pred)) - self.Lambda) / self.N\n",
        "\n",
        "            # gradient update for bias\n",
        "            dB = -2 * np.sum(self.y - y_pred) / self.N\n",
        "\n",
        "            self.W = self.W - self.lr * dW\n",
        "            self.B = self.B - self.lr * dB\n",
        "\n",
        "    # predicting the value of target variable\n",
        "    def predict(self, X_poly):\n",
        "      return X_poly.dot(self.W) + self.B\n",
        "\n",
        "\n",
        "\n"
      ]
    },
    {
      "cell_type": "code",
      "execution_count": 766,
      "metadata": {
        "id": "4ONMkF5ZC8wv"
      },
      "outputs": [],
      "source": [
        "dataset=(gdf-gdf.min())/(gdf.max()-gdf.min())\n",
        "X=dataset.drop(['Outcome', 'Unnamed: 0'], axis=1)\n",
        "y=dataset.Outcome\n",
        "dataset2=dataset.drop(['Unnamed: 0'], axis=1) #dataset without the 'Unnamed: 0' column\n",
        "\n",
        "X=dataset.iloc[:,:].values\n",
        "y=dataset.iloc[:,-1].values\n",
        "X_train,X_test,y_train,y_test=train_test_split(X, y,test_size=0.2,random_state=9)\n",
        "model = LassoReg(lr=0.039, iters =1000,Lambda=1,  degree=3)\n",
        "#Training the model with training samples\n",
        "model.fit(X_train, y_train)\n",
        "\n",
        "#Making pradictions of the trained model using the tesing smaples\n",
        "y_pred = model.predict(X_test)"
      ]
    },
    {
      "cell_type": "code",
      "source": [
        "squared_error = (y_test - np.round(y_pred)) ** 2\n",
        "mse = np.mean(squared_error)\n",
        "\n",
        "print(f\"Mean Squared Error (MSE): {mse: .2f}\")"
      ],
      "metadata": {
        "id": "x6ZQ8xau2RWX",
        "colab": {
          "base_uri": "https://localhost:8080/"
        },
        "outputId": "53b52994-d30b-44ab-8644-db3f57f9de1e"
      },
      "execution_count": 767,
      "outputs": [
        {
          "output_type": "stream",
          "name": "stdout",
          "text": [
            "Mean Squared Error (MSE):  0.36\n"
          ]
        }
      ]
    },
    {
      "cell_type": "code",
      "source": [
        "mse=mean_squared_error(y_test,y_pred)\n",
        "print(f\"Mean Squared Error (MSE): {mse: .2f}\")"
      ],
      "metadata": {
        "colab": {
          "base_uri": "https://localhost:8080/"
        },
        "id": "EwKEDSU28fMA",
        "outputId": "a6d07856-251e-43b2-c3a4-182138273958"
      },
      "execution_count": 768,
      "outputs": [
        {
          "output_type": "stream",
          "name": "stdout",
          "text": [
            "Mean Squared Error (MSE):  0.23\n"
          ]
        }
      ]
    },
    {
      "cell_type": "markdown",
      "source": [
        "As we can see, the difference in value of MSE calculated from scratch and that from the sklearn inbuilt function is negligible."
      ],
      "metadata": {
        "id": "2S4bnWXHjHw_"
      }
    },
    {
      "cell_type": "markdown",
      "source": [
        "## **_Ridge Regression_**"
      ],
      "metadata": {
        "id": "Dr-p_RtzSqUF"
      }
    },
    {
      "cell_type": "code",
      "source": [
        "dataset=(gdf-gdf.min())/(gdf.max()-gdf.min())\n",
        "X=dataset.drop(['Outcome', 'Unnamed: 0'], axis=1)\n",
        "y=dataset.Outcome\n",
        "dataset2=dataset.drop(['Unnamed: 0'], axis=1) #dataset without the 'Unnamed: 0' column\n",
        "X_train,X_test,y_train,y_test=train_test_split(X, y,test_size=0.2,random_state=9)"
      ],
      "metadata": {
        "id": "zaKWscUORaU-"
      },
      "execution_count": 769,
      "outputs": []
    },
    {
      "cell_type": "code",
      "source": [
        "class RidgeReg:\n",
        "\n",
        "   # initializing the hyperparameters\n",
        "    def __init__(self, alpha, degree):\n",
        "        self.alpha = alpha\n",
        "        self.degree = degree\n",
        "        self.coef = None\n",
        "        self.intercept = None\n",
        "\n",
        "    #generating a polynomial in the form x+x^2+.....\n",
        "    def gen_poly_features(self, X):\n",
        "        X_poly = X.copy()\n",
        "        for i in range(2, self.degree + 1):\n",
        "            X_poly = np.concatenate((X_poly, X ** i), axis=1)\n",
        "        return X_poly\n",
        "\n",
        "    def fit(self, X_train, y_train):\n",
        "        X_train_poly = self.gen_poly_features(X_train)\n",
        "\n",
        "        X_train_modify = np.insert(X_train_poly, 0, 1, axis=1) # modifying the features (X) matrix to include a column of ones for the bias\n",
        "\n",
        "\n",
        "        I = np.identity(X_train_modify.shape[1])\n",
        "        I[0][0] = 0 #making the top leftmost element 0 to avoid penalising the y intercept\n",
        "\n",
        "        #calculating the ridge coeficient\n",
        "        b_rr = np.linalg.inv(np.dot(X_train_modify.T, X_train_modify) + self.alpha * I).dot(X_train_modify.T).dot(y_train)\n",
        "        self.intercept = b_rr[0]\n",
        "        self.coef = b_rr[1:]\n",
        "\n",
        "    def predict(self, X_test):\n",
        "        X_test_poly = self.gen_poly_features(X_test)\n",
        "        return np.dot(X_test_poly, self.coef) + self.intercept\n",
        "\n",
        "    #calculating mean squared error\n",
        "    def mse(self, y_true, y_pred):\n",
        "        return mean_squared_error(y_true, y_pred)\n"
      ],
      "metadata": {
        "id": "aWqMiCzVSuAD"
      },
      "execution_count": 770,
      "outputs": []
    },
    {
      "cell_type": "code",
      "source": [
        "degree_R=3\n",
        "ridge_reg = RidgeReg(alpha=0.039, degree=degree_R)\n",
        "\n",
        "#Training the model with training samples\n",
        "ridge_reg.fit(X_train, y_train)\n",
        "\n",
        "#Making pradictions of the trained model using the tesing smaples\n",
        "y_pred = ridge_reg.predict(X_test)\n",
        "\n",
        "#calculating the mean square error\n",
        "mse = ridge_reg.mse(y_test, y_pred)\n",
        "print(f\"Mean Squared Error (MSE): {mse: .2f}\")"
      ],
      "metadata": {
        "colab": {
          "base_uri": "https://localhost:8080/"
        },
        "id": "6xRkJbiM_DVZ",
        "outputId": "0aa89fff-e787-4569-b80f-f6f94c1f809e"
      },
      "execution_count": 771,
      "outputs": [
        {
          "output_type": "stream",
          "name": "stdout",
          "text": [
            "Mean Squared Error (MSE):  0.19\n"
          ]
        }
      ]
    },
    {
      "cell_type": "markdown",
      "source": [
        "## **_Insights drawn (plots, markdown explanations)_**"
      ],
      "metadata": {
        "id": "FlUMAWsiSug9"
      }
    },
    {
      "cell_type": "markdown",
      "source": [
        "L1 and L2 regularisation are used to ensure no overfitting or underfitting occurs while performing polynomial regression.\n",
        "To determine the optimal values of learning rate and L1,L2 penalties we have run the model with different combinations and chosen the optimal set.\n",
        "From the models we have developed, the Mean Squared Error (MSE) for Lasso Regression () is 0.28 and that for Ridge Regression() it is 0.19.\n",
        "Possible reasons for this differnece could be that L1 handles outliers better as it can perform feature selection, unlike L2 in which the weights tend to 0 but are not exactly 0.\n"
      ],
      "metadata": {
        "id": "WZO4KIIMO5aR"
      }
    },
    {
      "cell_type": "markdown",
      "source": [
        "As observed from the correlation visualization,  Glucose is the feature that is the most correlated with the Outcome. Hence, we draw plots between the predicted value (Y) and Glucose (X)."
      ],
      "metadata": {
        "id": "rcY16J0rvJmu"
      }
    },
    {
      "cell_type": "code",
      "source": [
        "X_new=X_test['Glucose']"
      ],
      "metadata": {
        "id": "f5gJbpmdo1fl"
      },
      "execution_count": 772,
      "outputs": []
    },
    {
      "cell_type": "code",
      "source": [
        "# LASSO Regression Plot\n",
        "plt.scatter(X_new, y_test, label=\"Test Data\", color=\"b\")\n",
        "plt.scatter(X_new, y_pred, label=\"Predictions\", color=\"r\")\n",
        "plt.scatter(X_new, y_pred.round(), label=\"Predicted values rounded off\", color=\"g\")\n",
        "plt.title(\"Polynomial Regression with Lasso Regularization\")\n",
        "plt.xlabel(\"X_test[Glucose]\")\n",
        "plt.ylabel(\"y_predicted\")\n",
        "plt.legend()\n",
        "plt.show()"
      ],
      "metadata": {
        "id": "d8RRJbLCQPRk",
        "colab": {
          "base_uri": "https://localhost:8080/",
          "height": 472
        },
        "outputId": "fbfda161-12dd-400e-e22c-6f15fe2398ff"
      },
      "execution_count": 773,
      "outputs": [
        {
          "output_type": "display_data",
          "data": {
            "text/plain": [
              "<Figure size 640x480 with 1 Axes>"
            ],
            "image/png": "[encoded data removed]"
          },
          "metadata": {}
        }
      ]
    },
    {
      "cell_type": "code",
      "source": [
        "mymodel = np.poly1d(np.polyfit(X_new,y_pred,3))\n",
        "myline= np.linspace(1,10,100)\n",
        "plt.plot(myline,mymodel(myline))\n",
        "plt.scatter(X_new,y_pred,color='r')\n",
        "plt.show()"
      ],
      "metadata": {
        "colab": {
          "base_uri": "https://localhost:8080/",
          "height": 430
        },
        "id": "YK6SlYoUqXle",
        "outputId": "a24a261b-c41a-4026-f2f7-aa04910381dd"
      },
      "execution_count": 774,
      "outputs": [
        {
          "output_type": "display_data",
          "data": {
            "text/plain": [
              "<Figure size 640x480 with 1 Axes>"
            ],
            "image/png": "[encoded data removed]"
          },
          "metadata": {}
        }
      ]
    },
    {
      "cell_type": "code",
      "source": [
        "# Ridge Regression Plot\n",
        "plt.scatter(X_new, y_test, label=\"Test Data\", color=\"b\")\n",
        "plt.scatter(X_new, y_pred, label=\"Predictions\", color=\"r\")\n",
        "plt.scatter(X_new, y_pred.round(), label=\"Predicted values rounded off\", color=\"g\")\n",
        "plt.title(\"Polynomial Regression with Ridge Regression\")\n",
        "plt.xlabel(\"X_test[Glucose]\")\n",
        "plt.ylabel(\"y_predicted\")\n",
        "plt.legend()\n",
        "plt.show()\n"
      ],
      "metadata": {
        "id": "6xc3AgHkQUJM",
        "colab": {
          "base_uri": "https://localhost:8080/",
          "height": 472
        },
        "outputId": "23d7c0f7-4051-4761-ab62-9601b717155d"
      },
      "execution_count": 775,
      "outputs": [
        {
          "output_type": "display_data",
          "data": {
            "text/plain": [
              "<Figure size 640x480 with 1 Axes>"
            ],
            "image/png": "[encoded data removed]"
          },
          "metadata": {}
        }
      ]
    },
    {
      "cell_type": "code",
      "source": [
        "mymodel = np.poly1d(np.polyfit(X_new,y_pred,degree_R))\n",
        "myline= np.linspace(1,30,100)\n",
        "plt.plot(myline,mymodel(myline))\n",
        "plt.scatter(X_new,y_pred,color='r')\n",
        "plt.show()"
      ],
      "metadata": {
        "colab": {
          "base_uri": "https://localhost:8080/",
          "height": 430
        },
        "id": "_LmZ1nujsBz3",
        "outputId": "15d70565-e6c6-42af-ac07-a435ff4e15c6"
      },
      "execution_count": 776,
      "outputs": [
        {
          "output_type": "display_data",
          "data": {
            "text/plain": [
              "<Figure size 640x480 with 1 Axes>"
            ],
            "image/png": "[encoded data removed]"
          },
          "metadata": {}
        }
      ]
    },
    {
      "cell_type": "markdown",
      "source": [
        "# **_5. Comparison of Logistic Regression and Least Squares Classification_**\n",
        "\n",
        "## **_Logistic Regression_**"
      ],
      "metadata": {
        "id": "jzSfpXtdS_q0"
      }
    },
    {
      "cell_type": "code",
      "source": [
        "dataset=(gdf-gdf.min())/(gdf.max()-gdf.min())\n",
        "X=dataset.drop(['Outcome', 'Unnamed: 0'], axis=1)\n",
        "y=dataset.Outcome\n",
        "dataset2=dataset.drop(['Unnamed: 0'], axis=1) #dataset without the 'Unnamed: 0' column\n",
        "X_train,X_test,y_train,y_test=train_test_split(X, y,test_size=0.2,random_state=50)"
      ],
      "metadata": {
        "id": "6A8f5lnlRb5o"
      },
      "execution_count": 777,
      "outputs": []
    },
    {
      "cell_type": "code",
      "source": [
        "#using sigmoid function as the activation function\n",
        "def sigmoid(X):\n",
        "    return 1/(1+np.exp(-X))\n",
        "\n",
        "#creating logistic regression model from scratch\n",
        "class LogReg():\n",
        "    #constructor for initialising paramemters\n",
        "    def __init__(self,lr=0.01, iters=8000):\n",
        "        self.lr=lr\n",
        "        self.iters=iters\n",
        "        self.Weights=None\n",
        "        self.Bias=None\n",
        "\n",
        "    #method to train and fit the training data\n",
        "    def fit(self,X,y):\n",
        "        N, features = X.shape\n",
        "        self.Weights=np.zeros(features)\n",
        "        self.Bias=0\n",
        "\n",
        "        for i in range(self.iters):\n",
        "            linear_pred = np.dot(X, self.Weights)+self.Bias\n",
        "            predictions=sigmoid(linear_pred)\n",
        "\n",
        "            dW = (1/N)*np.dot(X.T,predictions-y)\n",
        "            dB = (1/N)*np.sum(predictions-y)\n",
        "\n",
        "            self.Weights=self.Weights-self.lr*dW\n",
        "            self.Bias=self.Bias=self.lr*dB\n",
        "\n",
        "    #method to predict outcome on testing data after model is trained\n",
        "    def predict(self,X):\n",
        "        linear_pred = np.dot(X, self.Weights)+self.Bias\n",
        "        y_pred=sigmoid(linear_pred)\n",
        "        final_pred=[0 if y<0.5 else 1 for y in y_pred]\n",
        "        return final_pred"
      ],
      "metadata": {
        "id": "JLCup6QlTG0G"
      },
      "execution_count": 787,
      "outputs": []
    },
    {
      "cell_type": "code",
      "source": [
        "logReg=LogReg()\n",
        "#Training the model with training samples\n",
        "logReg.fit(X_train,y_train)\n",
        "#Making pradictions of the trained model using the tesing smaples\n",
        "y_pred=logReg.predict(X_test)\n"
      ],
      "metadata": {
        "id": "8oZidUR_sDrr"
      },
      "execution_count": 788,
      "outputs": []
    },
    {
      "cell_type": "code",
      "source": [
        "#evaluating efficiency of model\n",
        "def accuracy(y_pred,y_test):\n",
        "    return np.sum(y_pred==y_test)/len(y_test)\n",
        "acc=accuracy(y_pred,y_test)\n",
        "print(acc)"
      ],
      "metadata": {
        "id": "-prjlvmSy5-m",
        "colab": {
          "base_uri": "https://localhost:8080/"
        },
        "outputId": "62df6a2b-e5db-4ffa-97fd-617625437971"
      },
      "execution_count": 790,
      "outputs": [
        {
          "output_type": "stream",
          "name": "stdout",
          "text": [
            "0.59\n"
          ]
        }
      ]
    },
    {
      "cell_type": "code",
      "source": [
        "acc=accuracy_score(y_test,y_pred)\n",
        "print(f\"F1 score: {acc: .2f}\")\n",
        "print(f\"F1 score: {f1_score(y_test,y_pred): .2f}\")"
      ],
      "metadata": {
        "id": "OjZc5pC_8XVa",
        "colab": {
          "base_uri": "https://localhost:8080/"
        },
        "outputId": "29a76bff-60d4-4215-f99f-8b2feaaa4d1d"
      },
      "execution_count": 791,
      "outputs": [
        {
          "output_type": "stream",
          "name": "stdout",
          "text": [
            "F1 score:  0.59\n",
            "F1 score:  0.28\n"
          ]
        }
      ]
    },
    {
      "cell_type": "markdown",
      "source": [
        "As we can see, the difference in accuracy calculated from scratch and that from the sklearn inbuilt function is negligible.\n"
      ],
      "metadata": {
        "id": "auVsAKRUzGTi"
      }
    },
    {
      "cell_type": "markdown",
      "source": [
        "## **_Least Squares Classification_**"
      ],
      "metadata": {
        "id": "kdX2kQ-nTHXc"
      }
    },
    {
      "cell_type": "code",
      "source": [
        "dataset=(gdf-gdf.min())/(gdf.max()-gdf.min())\n",
        "X=dataset.drop(['Outcome', 'Unnamed: 0'], axis=1)\n",
        "y=dataset.Outcome\n",
        "dataset2=dataset.drop(['Unnamed: 0'], axis=1) #dataset without the 'Unnamed: 0' column\n",
        "X_train,X_test,y_train,y_test=train_test_split(X, y,test_size=0.2,random_state=9)"
      ],
      "metadata": {
        "id": "5GAoSjWyRepe"
      },
      "execution_count": 792,
      "outputs": []
    },
    {
      "cell_type": "code",
      "source": [
        "class LeastSquareClassification():\n",
        "    def __init__(self):\n",
        "        self.t0 = 20\n",
        "        self.t1 = 1000\n",
        "\n",
        "    def predict(self, X):\n",
        "        if X.shape[-1] != self.w.shape[0]:\n",
        "          print(\"Shape of x and w not complatible\")\n",
        "        #assert X.shape[-1] == self.w.shape[0], f\"X shape{X.shape} and w shape {self.w.shape}, are not compatible\"\n",
        "        return X @ self.w\n",
        "\n",
        "    def loss(self, X, y, reg_rate):\n",
        "        e = y - self.predict_internal(X)\n",
        "        return (1/2) * (e.T@e) + (reg_rate/2)*(self.w).T@(self.w)\n",
        "\n",
        "\n",
        "    def predict_internal(self, X):\n",
        "        if X.shape[-1] != self.w.shape[0]:\n",
        "          print(\"Shape of x and w not complatible\")\n",
        "        #assert X.shape[-1] == self.w.shape[0], f\"X shape {X.shape} and w shape {self.w.shape}, are not compatible\"\n",
        "        return X@self.w\n",
        "\n",
        "    def rmse(self, X, y):\n",
        "        return np.sqrt(2/X.shape[0] * self.loss(X, y, 0))\n",
        "\n",
        "    def fit(self, X, y, reg_rate):\n",
        "        eye = np.eye(X.shape[1])\n",
        "        self.w = np.linalg.solve(reg_rate*eye + X.T@X, X.T @ y)\n",
        "        return self.w\n",
        "\n",
        "    def calculate_gradient(self, X, y, reg_rate):\n",
        "        grad = X.T @  (self.predict_internal(X)-y) + reg_rate * self.w\n",
        "        return grad\n",
        "\n",
        "    def update_weight(self, grad, lr) -> np.ndarray:\n",
        "        return(self.w - lr*grad)\n",
        "\n",
        "    def learning_schedule(self, t):\n",
        "        return self.t0/(t+self.t1)\n",
        "\n",
        "    def gd(self, X, y, epochs, lr, reg_rate):\n",
        "        self.w = np.zeros(X.shape[1])\n",
        "        self.w_all = []\n",
        "        self.err_all = []\n",
        "        for i in np.arange(0, epochs):\n",
        "            djdw = self.calculate_gradient(X, y, reg_rate)\n",
        "            lr = self.learning_schedule(epochs*X.shape[0]+i)\n",
        "            self.w_all.append(self.w)\n",
        "            self.err_all.append(self.loss(X, y, reg_rate))\n",
        "            self.w = self.update_weights(djdw, lr)\n",
        "        return self.w"
      ],
      "metadata": {
        "id": "_7qJtwGnTMdb"
      },
      "execution_count": 793,
      "outputs": []
    },
    {
      "cell_type": "code",
      "source": [
        "lsc = LeastSquareClassification()\n",
        "lsc.fit(X_train,y_train,0.39)\n",
        "y_pred=lsc.predict(X_test)\n",
        "y_pred=np.round(y_pred)\n",
        "def accuracy(y_pred,y_test):\n",
        "    return np.sum(y_pred==y_test)/len(y_test)\n",
        "acc=accuracy(y_pred,y_test)\n",
        "print(f\"Accuracy: {acc: .2f}\")\n",
        "acc=accuracy_score(y_test,y_pred)\n",
        "print(f\"Accuracy: {acc: .2f}\")\n",
        "print(f\"F1 score: {f1_score(y_test,y_pred): .2f}\")\n"
      ],
      "metadata": {
        "id": "TlPggU6OsLgx",
        "colab": {
          "base_uri": "https://localhost:8080/"
        },
        "outputId": "de3ba1cf-8ede-4b49-ff17-78e83a757827"
      },
      "execution_count": 794,
      "outputs": [
        {
          "output_type": "stream",
          "name": "stdout",
          "text": [
            "Accuracy:  0.70\n",
            "Accuracy:  0.70\n",
            "F1 score:  0.48\n"
          ]
        }
      ]
    },
    {
      "cell_type": "markdown",
      "source": [
        "## **_Insights drawn (plots, markdown explanations)_**"
      ],
      "metadata": {
        "id": "WSoa7KO1TM6-"
      }
    },
    {
      "cell_type": "code",
      "source": [
        "plt.title(\"Sigmoid function used in Logistic Regression\")\n",
        "y=sigmoid(X_test)\n",
        "plt.plot(X_test,y)\n",
        "plt.xlabel(\"X\")\n",
        "plt.ylabel(\"Sigmoid f(x)\")"
      ],
      "metadata": {
        "id": "9KYE7sstTW4D",
        "colab": {
          "base_uri": "https://localhost:8080/",
          "height": 490
        },
        "outputId": "037e1e32-cdad-4c42-fd96-e2e29e97bb91"
      },
      "execution_count": 795,
      "outputs": [
        {
          "output_type": "execute_result",
          "data": {
            "text/plain": [
              "Text(0, 0.5, 'Sigmoid f(x)')"
            ]
          },
          "metadata": {},
          "execution_count": 795
        },
        {
          "output_type": "display_data",
          "data": {
            "text/plain": [
              "<Figure size 640x480 with 1 Axes>"
            ],
            "image/png": "[encoded data removed]"
          },
          "metadata": {}
        }
      ]
    },
    {
      "cell_type": "code",
      "source": [
        "# Data visualisation for Least Square Classification\n",
        "confusion_matrix = metrics.confusion_matrix(y_test, y_pred)\n",
        "cm_display = metrics.ConfusionMatrixDisplay(confusion_matrix = confusion_matrix, display_labels = [False, True])\n",
        "cm_display.plot()\n",
        "plt.show()"
      ],
      "metadata": {
        "colab": {
          "base_uri": "https://localhost:8080/",
          "height": 449
        },
        "id": "o4HgFv628ZsS",
        "outputId": "f2852aee-41da-4155-be25-4bc438bc9a5e"
      },
      "execution_count": 796,
      "outputs": [
        {
          "output_type": "display_data",
          "data": {
            "text/plain": [
              "<Figure size 640x480 with 2 Axes>"
            ],
            "image/png": "[encoded data removed]"
          },
          "metadata": {}
        }
      ]
    },
    {
      "cell_type": "markdown",
      "source": [
        "As seen from the models the accuracy of both Logistic regression and Least square classification is around 70% with least square classification performing slightly better according to samples of dataset provided"
      ],
      "metadata": {
        "id": "FtI1-QrnSp_o"
      }
    },
    {
      "cell_type": "markdown",
      "source": [
        "# **_5. References_**\n",
        "\n",
        "1.   Christopher Bishop: Pattern Recognition and Machine Learning, Springer International Edition (Chapter 3,4)\n",
        "2.  [Ridge and Lasso Regression Indepth Intuition](https://www.youtube.com/watch?v=9lRv01HDU0s)\n",
        "3. [StatQuest: Logistic Regression](https://www.youtube.com/watch?v=yIYKR4sgzI8)\n",
        "4. [ Logistic Regression Indepth Intuition](https://www.youtube.com/watch?v=L_xBe7MbPwk)\n",
        "5. [Stochastic Gradient Descent vs Batch Gradient Descent vs Mini Batch Gradient Descent](https://youtu.be/IU5fuoYBTAM?feature=shared)\n",
        "6. [NumPy documentation](https://numpy.org/doc/)\n",
        "7. [Pandas documentation](https://pandas.pydata.org/docs/)\n",
        "8. [matplotlib documentation](https://matplotlib.org/stable/index.html)\n",
        "9.\n"
      ],
      "metadata": {
        "id": "81SwQ_y4TaSc"
      }
    }
  ]
}
